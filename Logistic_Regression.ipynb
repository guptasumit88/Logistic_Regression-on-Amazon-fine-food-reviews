{
 "cells": [
  {
   "cell_type": "markdown",
   "metadata": {},
   "source": [
    "# [1] Amazon Fine Food Reviews Analysis\n",
    "\n",
    "\n",
    "Data Source: https://www.kaggle.com/snap/amazon-fine-food-reviews\n",
    "\n",
    "The Amazon Fine Food Reviews dataset consists of reviews of fine foods from Amazon.<br>\n",
    "\n",
    "Number of reviews: 568,454<br>\n",
    "Number of users: 256,059<br>\n",
    "Number of products: 74,258<br>\n",
    "Timespan: Oct 1999 - Oct 2012<br>\n",
    "Number of Attributes/Columns in data: 10 \n",
    "\n",
    "Attribute Information:\n",
    "\n",
    "1. Id\n",
    "2. ProductId - unique identifier for the product\n",
    "3. UserId - unqiue identifier for the user\n",
    "4. ProfileName\n",
    "5. HelpfulnessNumerator - number of users who found the review helpful\n",
    "6. HelpfulnessDenominator - number of users who indicated whether they found the review helpful or not\n",
    "7. Score - rating between 1 and 5\n",
    "8. Time - timestamp for the review\n",
    "9. Summary - brief summary of the review\n",
    "10. Text - text of the review\n",
    "\n",
    "\n",
    "#### Objective:\n",
    "Given a review, determine whether the review is positive (Rating of 4 or 5) or negative (rating of 1 or 2).\n",
    "\n",
    "<br>\n",
    "[Q] How to determine if a review is positive or negative?<br>\n",
    "<br> \n",
    "[Ans] We could use the Score/Rating. A rating of 4 or 5 could be cosnidered a positive review. A review of 1 or 2 could be considered negative. A review of 3 is nuetral and ignored. This is an approximate and proxy way of determining the polarity (positivity/negativity) of a review.\n"
   ]
  },
  {
   "cell_type": "markdown",
   "metadata": {},
   "source": [
    "## Loading the data\n",
    "\n",
    "The dataset is available in two forms\n",
    "1. .csv file\n",
    "2. SQLite Database\n",
    "\n",
    "In order to load the data, We have used the SQLITE dataset as it easier to query the data and visualise the data efficiently.\n",
    "<br> \n",
    "\n",
    "Here as we only want to get the global sentiment of the recommendations (positive or negative), we will purposefully ignore all Scores equal to 3. If the score id above 3, then the recommendation wil be set to \"positive\". Otherwise, it will be set to \"negative\"."
   ]
  },
  {
   "cell_type": "markdown",
   "metadata": {},
   "source": [
    "# Task Performed:\n",
    "1. Apply Logistic regression on all the four vectorizers.\n",
    "2. Before applying the model, please read the sklearn documentation and go through all\n",
    "the parameters that it can accept and try to use some in your assignment if you think that\n",
    "can help somehow\n",
    "3. Performing perturbation test:\n",
    "a. Get the weights W after fit your model with the data X\n",
    "b. Add a noise to the X (X' = X + e) and get the new data set X' (if X is a sparse\n",
    "matrix, X.data+=e)\n",
    "c. we fit the model again on data X' and get the weights W'\n",
    "d. find the % change between W and W' ( ((|W-W'|+100) / (W+100))*100)\n",
    "e. print the features whose % change is more than a threshold x, (you need to\n",
    "choose this threshold using elbow method)\n",
    "\n",
    "4. Choose different metric other than accuracy for choosing the best hyperparameter,\n",
    "which is apt for imbalanced datasets and accuracy sometimes gives us false conclusions\n",
    "about the model performance sometimes.\n",
    "5. Do hyperparameter tuning or some feature engineering and make your model better by\n",
    "reducing the false positives. (Ex: adding the length of the reviews, getting some features\n",
    "from the summary column)\n",
    "6. Get important features for both positive and negative classes separately.\n",
    "7. Do sparsity and multicollinearity for any one of the vectorizers. Bow or tf-idf is\n",
    "recommended.\n",
    "8. Avoid submitting the models which are more biased towards positive points. Try to\n",
    "improve if everything or most of the points are predicting as positive."
   ]
  },
  {
   "cell_type": "code",
   "execution_count": 150,
   "metadata": {
    "collapsed": true
   },
   "outputs": [],
   "source": [
    "import numpy \n",
    "import pandas as pd\n",
    "import matplotlib.pyplot as plt \n",
    "from sklearn.metrics import confusion_matrix \n",
    "from sklearn.metrics import accuracy_score\n",
    "from sklearn.cross_validation import cross_val_score\n",
    "from sklearn.cross_validation import train_test_split\n",
    "from nltk.corpus import stopwords\n",
    "from nltk.stem import PorterStemmer\n",
    "import re \n",
    "import sqlite3"
   ]
  },
  {
   "cell_type": "code",
   "execution_count": 151,
   "metadata": {},
   "outputs": [
    {
     "data": {
      "text/plain": [
       "(525814, 10)"
      ]
     },
     "execution_count": 151,
     "metadata": {},
     "output_type": "execute_result"
    }
   ],
   "source": [
    "con = sqlite3.connect(\"./amazon-fine-food-reviews/database.sqlite\")\n",
    "data = pd.read_sql_query('''\n",
    "SELECT *\n",
    "FROM REVIEWS\n",
    "WHERE SCORE != 3''', con)\n",
    "data.shape"
   ]
  },
  {
   "cell_type": "markdown",
   "metadata": {},
   "source": [
    "# Data Cleaning"
   ]
  },
  {
   "cell_type": "code",
   "execution_count": null,
   "metadata": {
    "collapsed": true
   },
   "outputs": [],
   "source": [
    "data = data[data.HelpfulnessNumerator <= data.HelpfulnessDenominator]\n",
    "data.shape"
   ]
  },
  {
   "cell_type": "markdown",
   "metadata": {},
   "source": [
    "<b>Observation:-</b> It was also seen that in two rows given below the value of HelpfulnessNumerator is greater than HelpfulnessDenominator which is not practically possible hence these two rows too are removed from calcualtions"
   ]
  },
  {
   "cell_type": "code",
   "execution_count": 153,
   "metadata": {},
   "outputs": [
    {
     "data": {
      "text/html": [
       "<div>\n",
       "<style>\n",
       "    .dataframe thead tr:only-child th {\n",
       "        text-align: right;\n",
       "    }\n",
       "\n",
       "    .dataframe thead th {\n",
       "        text-align: left;\n",
       "    }\n",
       "\n",
       "    .dataframe tbody tr th {\n",
       "        vertical-align: top;\n",
       "    }\n",
       "</style>\n",
       "<table border=\"1\" class=\"dataframe\">\n",
       "  <thead>\n",
       "    <tr style=\"text-align: right;\">\n",
       "      <th></th>\n",
       "      <th>Id</th>\n",
       "      <th>ProductId</th>\n",
       "      <th>UserId</th>\n",
       "      <th>ProfileName</th>\n",
       "      <th>HelpfulnessNumerator</th>\n",
       "      <th>HelpfulnessDenominator</th>\n",
       "      <th>Score</th>\n",
       "      <th>Time</th>\n",
       "      <th>Summary</th>\n",
       "      <th>Text</th>\n",
       "    </tr>\n",
       "  </thead>\n",
       "  <tbody>\n",
       "    <tr>\n",
       "      <th>138693</th>\n",
       "      <td>150511</td>\n",
       "      <td>0006641040</td>\n",
       "      <td>A1C9K534BCI9GO</td>\n",
       "      <td>Laura Purdie Salas</td>\n",
       "      <td>0</td>\n",
       "      <td>0</td>\n",
       "      <td>positive</td>\n",
       "      <td>1344211200</td>\n",
       "      <td>Charming and childlike</td>\n",
       "      <td>A charming, rhyming book that describes the ci...</td>\n",
       "    </tr>\n",
       "    <tr>\n",
       "      <th>138708</th>\n",
       "      <td>150526</td>\n",
       "      <td>0006641040</td>\n",
       "      <td>A3E9QZFE9KXH8J</td>\n",
       "      <td>R. Mitchell</td>\n",
       "      <td>11</td>\n",
       "      <td>18</td>\n",
       "      <td>negative</td>\n",
       "      <td>1129507200</td>\n",
       "      <td>awesome book poor size</td>\n",
       "      <td>This is one of the best children's books ever ...</td>\n",
       "    </tr>\n",
       "    <tr>\n",
       "      <th>138707</th>\n",
       "      <td>150525</td>\n",
       "      <td>0006641040</td>\n",
       "      <td>A2QID6VCFTY51R</td>\n",
       "      <td>Rick</td>\n",
       "      <td>1</td>\n",
       "      <td>2</td>\n",
       "      <td>positive</td>\n",
       "      <td>1025481600</td>\n",
       "      <td>In December it will be, my snowman's anniversa...</td>\n",
       "      <td>My daughter loves all the \"Really Rosie\" books...</td>\n",
       "    </tr>\n",
       "    <tr>\n",
       "      <th>138706</th>\n",
       "      <td>150524</td>\n",
       "      <td>0006641040</td>\n",
       "      <td>ACITT7DI6IDDL</td>\n",
       "      <td>shari zychinski</td>\n",
       "      <td>0</td>\n",
       "      <td>0</td>\n",
       "      <td>positive</td>\n",
       "      <td>939340800</td>\n",
       "      <td>EVERY book is educational</td>\n",
       "      <td>this witty little book makes my son laugh at l...</td>\n",
       "    </tr>\n",
       "    <tr>\n",
       "      <th>138705</th>\n",
       "      <td>150523</td>\n",
       "      <td>0006641040</td>\n",
       "      <td>A2P4F2UO0UMP8C</td>\n",
       "      <td>Elizabeth A. Curry \"Lovely Librarian\"</td>\n",
       "      <td>0</td>\n",
       "      <td>0</td>\n",
       "      <td>positive</td>\n",
       "      <td>1096675200</td>\n",
       "      <td>MMMM chicken soup....</td>\n",
       "      <td>Summary:  A young boy describes the usefulness...</td>\n",
       "    </tr>\n",
       "  </tbody>\n",
       "</table>\n",
       "</div>"
      ],
      "text/plain": [
       "            Id   ProductId          UserId  \\\n",
       "138693  150511  0006641040  A1C9K534BCI9GO   \n",
       "138708  150526  0006641040  A3E9QZFE9KXH8J   \n",
       "138707  150525  0006641040  A2QID6VCFTY51R   \n",
       "138706  150524  0006641040   ACITT7DI6IDDL   \n",
       "138705  150523  0006641040  A2P4F2UO0UMP8C   \n",
       "\n",
       "                                  ProfileName  HelpfulnessNumerator  \\\n",
       "138693                     Laura Purdie Salas                     0   \n",
       "138708                            R. Mitchell                    11   \n",
       "138707                                   Rick                     1   \n",
       "138706                        shari zychinski                     0   \n",
       "138705  Elizabeth A. Curry \"Lovely Librarian\"                     0   \n",
       "\n",
       "        HelpfulnessDenominator     Score        Time  \\\n",
       "138693                       0  positive  1344211200   \n",
       "138708                      18  negative  1129507200   \n",
       "138707                       2  positive  1025481600   \n",
       "138706                       0  positive   939340800   \n",
       "138705                       0  positive  1096675200   \n",
       "\n",
       "                                                  Summary  \\\n",
       "138693                             Charming and childlike   \n",
       "138708                             awesome book poor size   \n",
       "138707  In December it will be, my snowman's anniversa...   \n",
       "138706                          EVERY book is educational   \n",
       "138705                              MMMM chicken soup....   \n",
       "\n",
       "                                                     Text  \n",
       "138693  A charming, rhyming book that describes the ci...  \n",
       "138708  This is one of the best children's books ever ...  \n",
       "138707  My daughter loves all the \"Really Rosie\" books...  \n",
       "138706  this witty little book makes my son laugh at l...  \n",
       "138705  Summary:  A young boy describes the usefulness...  "
      ]
     },
     "execution_count": 153,
     "metadata": {},
     "output_type": "execute_result"
    }
   ],
   "source": [
    "data['Score'] = data[\"Score\"].apply(lambda x: \"positive\" if x > 3 else \"negative\")\n",
    "sorted_data = data.sort_values('ProductId',axis = 0, inplace = False, kind = 'quicksort',ascending = True)\n",
    "sorted_data.head()"
   ]
  },
  {
   "cell_type": "code",
   "execution_count": 154,
   "metadata": {},
   "outputs": [
    {
     "data": {
      "text/plain": [
       "(328770, 10)"
      ]
     },
     "execution_count": 154,
     "metadata": {},
     "output_type": "execute_result"
    }
   ],
   "source": [
    "filtered_data = sorted_data.drop_duplicates(subset = {'UserId','ProfileName','Time'} ,keep = 'first', inplace = False)\n",
    "filtered_data.shape"
   ]
  },
  {
   "cell_type": "code",
   "execution_count": 155,
   "metadata": {},
   "outputs": [
    {
     "data": {
      "text/plain": [
       "positive    275650\n",
       "negative     53120\n",
       "Name: Score, dtype: int64"
      ]
     },
     "execution_count": 155,
     "metadata": {},
     "output_type": "execute_result"
    }
   ],
   "source": [
    "filtered_data['Score'].value_counts()"
   ]
  },
  {
   "cell_type": "code",
   "execution_count": 156,
   "metadata": {
    "collapsed": true
   },
   "outputs": [],
   "source": [
    "final = filtered_data.copy()"
   ]
  },
  {
   "cell_type": "code",
   "execution_count": 157,
   "metadata": {},
   "outputs": [
    {
     "name": "stdout",
     "output_type": "stream",
     "text": [
      "[nltk_data] Downloading package stopwords to C:\\Users\\manish\n",
      "[nltk_data]     dogra\\AppData\\Roaming\\nltk_data...\n",
      "[nltk_data]   Package stopwords is already up-to-date!\n"
     ]
    },
    {
     "data": {
      "text/plain": [
       "True"
      ]
     },
     "execution_count": 157,
     "metadata": {},
     "output_type": "execute_result"
    }
   ],
   "source": [
    "import nltk\n",
    "nltk.download('stopwords')"
   ]
  },
  {
   "cell_type": "code",
   "execution_count": 158,
   "metadata": {},
   "outputs": [
    {
     "data": {
      "text/plain": [
       "'burn'"
      ]
     },
     "execution_count": 158,
     "metadata": {},
     "output_type": "execute_result"
    }
   ],
   "source": [
    "stop = set(stopwords.words(\"english\"))\n",
    "st = PorterStemmer()\n",
    "st.stem('burned')"
   ]
  },
  {
   "cell_type": "markdown",
   "metadata": {},
   "source": [
    "##  Text Preprocessing: Stemming, stop-word removal and Lemmatization.\n",
    "\n",
    "Now that we have finished deduplication our data requires some preprocessing before we go on further with analysis and making the prediction model.\n",
    "\n",
    "Hence in the Preprocessing phase we do the following in the order below:-\n",
    "\n",
    "1. Begin by removing the html tags\n",
    "2. Remove any punctuations or limited set of special characters like , or . or # etc.\n",
    "3. Check if the word is made up of english letters and is not alpha-numeric\n",
    "4. Check to see if the length of the word is greater than 2 (as it was researched that there is no adjective in 2-letters)\n",
    "5. Convert the word to lowercase\n",
    "6. Remove Stopwords\n",
    "7. Finally Snowball Stemming the word (it was obsereved to be better than Porter Stemming)<br>\n",
    "\n",
    "After which we collect the words used to describe positive and negative reviews"
   ]
  },
  {
   "cell_type": "code",
   "execution_count": 159,
   "metadata": {
    "collapsed": true
   },
   "outputs": [],
   "source": [
    "def cleanhtml(sent):\n",
    "    cleanr = re.compile('<.*?>')\n",
    "    cleaned = re.sub(cleanr,' ',sent)\n",
    "    return cleaned\n",
    "def cleanpunc(sent):\n",
    "    clean = re.sub(r'[?|!|$|#|\\'|\"|:]',r'',sent)\n",
    "    clean = re.sub(r'[,|(|)|.|\\|/]',r' ',clean)\n",
    "    return clean"
   ]
  },
  {
   "cell_type": "code",
   "execution_count": 160,
   "metadata": {
    "collapsed": true
   },
   "outputs": [],
   "source": [
    "i=0\n",
    "all_positive_reviews =[]\n",
    "all_negative_reviews = []\n",
    "final_string = []\n",
    "stem_data = \" \"\n",
    "for p in final['Text'].values:\n",
    "    filtered_sens = []#filtered word\n",
    "    p = cleanhtml(p)\n",
    "    for w in p.split():\n",
    "       # print(w)\n",
    "        punc = cleanpunc(w)\n",
    "        for s in punc.split():\n",
    "            #print(w)\n",
    "            if (s.isalpha()) & (len(s)>2):\n",
    "                if s.lower() not in stop:\n",
    "                    stem_data = (st.stem(s.lower())).encode('utf8')\n",
    "                    #can we use lemmatizer and stemming altogether??\n",
    "                    filtered_sens.append(stem_data)\n",
    "                    if (final['Score'].values)[i] == 'positive':\n",
    "                        all_positive_reviews.append(stem_data)\n",
    "                    if (final['Score'].values)[i] == 'negative':\n",
    "                        all_negative_reviews.append(stem_data)\n",
    "                else:\n",
    "                    continue\n",
    "            else:\n",
    "                continue\n",
    "    #print(filtered_sens)\n",
    "    str1 = b\" \".join(filtered_sens)\n",
    "    #print(str1)\n",
    "    final_string.append(str1)\n",
    "    i+=1"
   ]
  },
  {
   "cell_type": "code",
   "execution_count": 161,
   "metadata": {},
   "outputs": [
    {
     "data": {
      "text/html": [
       "<div>\n",
       "<style>\n",
       "    .dataframe thead tr:only-child th {\n",
       "        text-align: right;\n",
       "    }\n",
       "\n",
       "    .dataframe thead th {\n",
       "        text-align: left;\n",
       "    }\n",
       "\n",
       "    .dataframe tbody tr th {\n",
       "        vertical-align: top;\n",
       "    }\n",
       "</style>\n",
       "<table border=\"1\" class=\"dataframe\">\n",
       "  <thead>\n",
       "    <tr style=\"text-align: right;\">\n",
       "      <th></th>\n",
       "      <th>Id</th>\n",
       "      <th>ProductId</th>\n",
       "      <th>UserId</th>\n",
       "      <th>ProfileName</th>\n",
       "      <th>HelpfulnessNumerator</th>\n",
       "      <th>HelpfulnessDenominator</th>\n",
       "      <th>Score</th>\n",
       "      <th>Time</th>\n",
       "      <th>Summary</th>\n",
       "      <th>Text</th>\n",
       "      <th>CleanedText</th>\n",
       "    </tr>\n",
       "  </thead>\n",
       "  <tbody>\n",
       "    <tr>\n",
       "      <th>138693</th>\n",
       "      <td>150511</td>\n",
       "      <td>0006641040</td>\n",
       "      <td>A1C9K534BCI9GO</td>\n",
       "      <td>Laura Purdie Salas</td>\n",
       "      <td>0</td>\n",
       "      <td>0</td>\n",
       "      <td>positive</td>\n",
       "      <td>1344211200</td>\n",
       "      <td>Charming and childlike</td>\n",
       "      <td>A charming, rhyming book that describes the ci...</td>\n",
       "      <td>b'charm rhyme book describ circumst eat dont c...</td>\n",
       "    </tr>\n",
       "    <tr>\n",
       "      <th>138708</th>\n",
       "      <td>150526</td>\n",
       "      <td>0006641040</td>\n",
       "      <td>A3E9QZFE9KXH8J</td>\n",
       "      <td>R. Mitchell</td>\n",
       "      <td>11</td>\n",
       "      <td>18</td>\n",
       "      <td>negative</td>\n",
       "      <td>1129507200</td>\n",
       "      <td>awesome book poor size</td>\n",
       "      <td>This is one of the best children's books ever ...</td>\n",
       "      <td>b'one best children book ever written mini ver...</td>\n",
       "    </tr>\n",
       "    <tr>\n",
       "      <th>138707</th>\n",
       "      <td>150525</td>\n",
       "      <td>0006641040</td>\n",
       "      <td>A2QID6VCFTY51R</td>\n",
       "      <td>Rick</td>\n",
       "      <td>1</td>\n",
       "      <td>2</td>\n",
       "      <td>positive</td>\n",
       "      <td>1025481600</td>\n",
       "      <td>In December it will be, my snowman's anniversa...</td>\n",
       "      <td>My daughter loves all the \"Really Rosie\" books...</td>\n",
       "      <td>b'daughter love realli rosi book introduc real...</td>\n",
       "    </tr>\n",
       "    <tr>\n",
       "      <th>138706</th>\n",
       "      <td>150524</td>\n",
       "      <td>0006641040</td>\n",
       "      <td>ACITT7DI6IDDL</td>\n",
       "      <td>shari zychinski</td>\n",
       "      <td>0</td>\n",
       "      <td>0</td>\n",
       "      <td>positive</td>\n",
       "      <td>939340800</td>\n",
       "      <td>EVERY book is educational</td>\n",
       "      <td>this witty little book makes my son laugh at l...</td>\n",
       "      <td>b'witti littl book make son laugh loud recit c...</td>\n",
       "    </tr>\n",
       "    <tr>\n",
       "      <th>138705</th>\n",
       "      <td>150523</td>\n",
       "      <td>0006641040</td>\n",
       "      <td>A2P4F2UO0UMP8C</td>\n",
       "      <td>Elizabeth A. Curry \"Lovely Librarian\"</td>\n",
       "      <td>0</td>\n",
       "      <td>0</td>\n",
       "      <td>positive</td>\n",
       "      <td>1096675200</td>\n",
       "      <td>MMMM chicken soup....</td>\n",
       "      <td>Summary:  A young boy describes the usefulness...</td>\n",
       "      <td>b'summari young boy describ use chicken soup r...</td>\n",
       "    </tr>\n",
       "  </tbody>\n",
       "</table>\n",
       "</div>"
      ],
      "text/plain": [
       "            Id   ProductId          UserId  \\\n",
       "138693  150511  0006641040  A1C9K534BCI9GO   \n",
       "138708  150526  0006641040  A3E9QZFE9KXH8J   \n",
       "138707  150525  0006641040  A2QID6VCFTY51R   \n",
       "138706  150524  0006641040   ACITT7DI6IDDL   \n",
       "138705  150523  0006641040  A2P4F2UO0UMP8C   \n",
       "\n",
       "                                  ProfileName  HelpfulnessNumerator  \\\n",
       "138693                     Laura Purdie Salas                     0   \n",
       "138708                            R. Mitchell                    11   \n",
       "138707                                   Rick                     1   \n",
       "138706                        shari zychinski                     0   \n",
       "138705  Elizabeth A. Curry \"Lovely Librarian\"                     0   \n",
       "\n",
       "        HelpfulnessDenominator     Score        Time  \\\n",
       "138693                       0  positive  1344211200   \n",
       "138708                      18  negative  1129507200   \n",
       "138707                       2  positive  1025481600   \n",
       "138706                       0  positive   939340800   \n",
       "138705                       0  positive  1096675200   \n",
       "\n",
       "                                                  Summary  \\\n",
       "138693                             Charming and childlike   \n",
       "138708                             awesome book poor size   \n",
       "138707  In December it will be, my snowman's anniversa...   \n",
       "138706                          EVERY book is educational   \n",
       "138705                              MMMM chicken soup....   \n",
       "\n",
       "                                                     Text  \\\n",
       "138693  A charming, rhyming book that describes the ci...   \n",
       "138708  This is one of the best children's books ever ...   \n",
       "138707  My daughter loves all the \"Really Rosie\" books...   \n",
       "138706  this witty little book makes my son laugh at l...   \n",
       "138705  Summary:  A young boy describes the usefulness...   \n",
       "\n",
       "                                              CleanedText  \n",
       "138693  b'charm rhyme book describ circumst eat dont c...  \n",
       "138708  b'one best children book ever written mini ver...  \n",
       "138707  b'daughter love realli rosi book introduc real...  \n",
       "138706  b'witti littl book make son laugh loud recit c...  \n",
       "138705  b'summari young boy describ use chicken soup r...  "
      ]
     },
     "execution_count": 161,
     "metadata": {},
     "output_type": "execute_result"
    }
   ],
   "source": [
    "final['CleanedText'] = final_string\n",
    "final.head()"
   ]
  },
  {
   "cell_type": "code",
   "execution_count": 162,
   "metadata": {
    "collapsed": true
   },
   "outputs": [],
   "source": [
    "from sklearn.feature_extraction.text import TfidfTransformer\n",
    "from sklearn.feature_extraction.text import TfidfVectorizer\n",
    "from sklearn.feature_extraction.text import CountVectorizer"
   ]
  },
  {
   "cell_type": "code",
   "execution_count": 163,
   "metadata": {
    "collapsed": true
   },
   "outputs": [],
   "source": [
    "final = final.sort_values('Time',axis= 0,inplace = False , na_position = 'last',ascending = True)\n",
    "X = final['CleanedText'].values\n",
    "X = X[:100000]\n",
    "y = final['Score'].values\n",
    "y = y[:100000]"
   ]
  },
  {
   "cell_type": "code",
   "execution_count": 164,
   "metadata": {
    "collapsed": true
   },
   "outputs": [],
   "source": [
    "X_train ,X_test,y_train,y_test = train_test_split(X,y,test_size = 0.3,stratify = y)"
   ]
  },
  {
   "cell_type": "markdown",
   "metadata": {},
   "source": [
    "# Logistic regression on bow"
   ]
  },
  {
   "cell_type": "code",
   "execution_count": 165,
   "metadata": {},
   "outputs": [
    {
     "data": {
      "text/plain": [
       "(70000, 32539)"
      ]
     },
     "execution_count": 165,
     "metadata": {},
     "output_type": "execute_result"
    }
   ],
   "source": [
    "count_vect = CountVectorizer() #in scikit-learn\n",
    "bow_train = count_vect.fit_transform(X_train)\n",
    "bow_test = count_vect.transform(X_test)\n",
    "#count_vect.get_feature_names()\n",
    "bow_train.shape"
   ]
  },
  {
   "cell_type": "code",
   "execution_count": 166,
   "metadata": {
    "collapsed": true
   },
   "outputs": [],
   "source": [
    "import numpy as np"
   ]
  },
  {
   "cell_type": "code",
   "execution_count": 167,
   "metadata": {
    "scrolled": true
   },
   "outputs": [
    {
     "name": "stdout",
     "output_type": "stream",
     "text": [
      "{'C': [0.16698275797096984, 0.11398056947443365, 0.076115220379598142, 0.17229256023059686, 0.027907564007266322, 0.066047061540247629, 0.017807903972506894, 0.0031991558659850423, 0.006525179239134149, 0.11504336398450735, 0.017970785538968106, 0.015577283888338659, 0.028379520274582549, 0.15682816393394053, 0.045687225669993524, 0.056541521764899655, 0.1314026855004789, 0.047455632742603837, 0.051550262477658176, 0.17422332503357488, 0.064818656695836085, 0.13720030020819388, 0.10988625309647977, 0.10114463373321468, 0.064679822096676692, 0.014860127257105109, 0.07087264327765079, 0.094597354879467896, 0.04957879513728862]}\n"
     ]
    }
   ],
   "source": [
    "x = np.random.normal(loc = 0 , scale = 0.1,size = 50)\n",
    "param_distb =  {'C': [y for y in x if y >0  ]}\n",
    "print(param_distb)"
   ]
  },
  {
   "cell_type": "code",
   "execution_count": 168,
   "metadata": {},
   "outputs": [
    {
     "name": "stdout",
     "output_type": "stream",
     "text": [
      "LogisticRegression(C=0.17422332503357488, class_weight='balanced', dual=False,\n",
      "          fit_intercept=True, intercept_scaling=1, max_iter=100,\n",
      "          multi_class='ovr', n_jobs=1, penalty='l1', random_state=None,\n",
      "          solver='liblinear', tol=0.0001, verbose=0, warm_start=False)\n",
      "Accuracy  88.2033333333\n"
     ]
    }
   ],
   "source": [
    "from sklearn.model_selection import RandomizedSearchCV\n",
    "from sklearn.linear_model import LogisticRegression\n",
    "model_random = RandomizedSearchCV(LogisticRegression(class_weight = 'balanced',penalty = 'l1'),param_distb,cv = 10 ,scoring = 'accuracy')\n",
    "model_random.fit(bow_train,y_train)\n",
    "print(model_random.best_estimator_)\n",
    "pred = model_random.predict(bow_test)\n",
    "print('Accuracy ',accuracy_score(y_test,pred)*100)"
   ]
  },
  {
   "cell_type": "code",
   "execution_count": 169,
   "metadata": {},
   "outputs": [
    {
     "name": "stdout",
     "output_type": "stream",
     "text": [
      "             precision    recall  f1-score   support\n",
      "\n",
      "   negative       0.52      0.84      0.64      3811\n",
      "   positive       0.97      0.89      0.93     26189\n",
      "\n",
      "avg / total       0.92      0.88      0.89     30000\n",
      "\n"
     ]
    }
   ],
   "source": [
    "from sklearn.metrics import classification_report\n",
    "print(classification_report(y_test,pred))"
   ]
  },
  {
   "cell_type": "code",
   "execution_count": 170,
   "metadata": {
    "scrolled": true
   },
   "outputs": [
    {
     "name": "stdout",
     "output_type": "stream",
     "text": [
      "RECALL SCORE\n",
      "0.887853679026\n",
      "0.842036210968\n",
      "\n",
      "\n",
      "PRECISION SCORE\n",
      "0.97476314245\n",
      "0.522128213472\n"
     ]
    }
   ],
   "source": [
    "from sklearn.metrics import recall_score , precision_score , roc_auc_score ,roc_curve\n",
    "print('RECALL SCORE')\n",
    "print(recall_score(y_test,pred,pos_label = 'positive'))\n",
    "print(recall_score(y_test,pred,pos_label= 'negative') )\n",
    "print('\\n')\n",
    "print('PRECISION SCORE')\n",
    "print(precision_score(y_test,pred,pos_label = 'positive'))\n",
    "print(precision_score(y_test,pred,pos_label = 'negative'))"
   ]
  },
  {
   "cell_type": "code",
   "execution_count": 171,
   "metadata": {
    "scrolled": true
   },
   "outputs": [
    {
     "data": {
      "image/png": "[encoded data removed]",
      "text/plain": [
       "<matplotlib.figure.Figure at 0x1ee3a06d080>"
      ]
     },
     "metadata": {},
     "output_type": "display_data"
    }
   ],
   "source": [
    "change = lambda x : 1 if x == 'positive' else 0\n",
    "y_true = np.array([change(x) for x in y_test])\n",
    "y_pred = model_random.predict_proba(bow_test)[:,1]\n",
    "fpr,tpr,thresholds = roc_curve(y_true, y_pred)\n",
    "plt.plot(fpr,tpr,'r--')\n",
    "plt.ylabel('True Positive Rate')\n",
    "plt.xlabel('False Positive Rate')\n",
    "plt.legend()\n",
    "plt.show()"
   ]
  },
  {
   "cell_type": "code",
   "execution_count": 172,
   "metadata": {
    "scrolled": true
   },
   "outputs": [
    {
     "name": "stdout",
     "output_type": "stream",
     "text": [
      "0.932468206735\n"
     ]
    }
   ],
   "source": [
    "print(roc_auc_score(y_true,y_pred))"
   ]
  },
  {
   "cell_type": "code",
   "execution_count": 173,
   "metadata": {
    "scrolled": true
   },
   "outputs": [
    {
     "name": "stdout",
     "output_type": "stream",
     "text": [
      "[[ 3209   602]\n",
      " [ 2937 23252]]\n"
     ]
    },
    {
     "data": {
      "image/png": "[encoded data removed]",
      "text/plain": [
       "<matplotlib.figure.Figure at 0x1ee4fe32e80>"
      ]
     },
     "metadata": {},
     "output_type": "display_data"
    }
   ],
   "source": [
    "from sklearn.metrics import confusion_matrix\n",
    "import seaborn as sns\n",
    "confusion = confusion_matrix(y_test , pred)\n",
    "print(confusion)\n",
    "df_cm = pd.DataFrame(confusion , index = ['Negative','Positive'])\n",
    "sns.heatmap(df_cm ,annot = True)\n",
    "plt.xticks([0.5,1.5],['Negative','Positive'],rotation = 45)\n",
    "plt.xlabel(\"Predicted\")\n",
    "plt.ylabel(\"Actual\")\n",
    "plt.show()"
   ]
  },
  {
   "cell_type": "markdown",
   "metadata": {},
   "source": [
    "<h3>Logistic Regression on BOW with L1</h3>\n",
    "* Optimal C = 0.174\n",
    "* Accuracy = 88.203\n",
    "* Precision = 0.974(positive), 0.522(negative)\n",
    "* Recall = 0.887 ,0.842\n",
    "* AUC = 0.932\n",
    "* TN = 3209\n",
    "* TP = 23252\n"
   ]
  },
  {
   "cell_type": "code",
   "execution_count": 174,
   "metadata": {
    "collapsed": true,
    "scrolled": true
   },
   "outputs": [],
   "source": [
    "clf = LogisticRegression(penalty = 'l1', C = 0.1,class_weight = 'balanced')\n",
    "clf.fit(bow_train,y_train)\n",
    "pred = clf.predict(bow_test)\n",
    "pred_train = clf.predict(bow_train)\n",
    "test_error = 1-accuracy_score(y_test,pred)\n",
    "train_error = 1-accuracy_score(y_train,pred_train)"
   ]
  },
  {
   "cell_type": "code",
   "execution_count": 175,
   "metadata": {},
   "outputs": [
    {
     "name": "stdout",
     "output_type": "stream",
     "text": [
      "Error on test 12.2433333333\n",
      "Error on train 11.3757142857\n",
      "Sparsity 1275\n"
     ]
    }
   ],
   "source": [
    "print('Error on test',test_error*100)\n",
    "print('Error on train',train_error*100)\n",
    "w = clf.coef_\n",
    "print('Sparsity',np.count_nonzero(w)-len(w))"
   ]
  },
  {
   "cell_type": "code",
   "execution_count": 176,
   "metadata": {
    "collapsed": true
   },
   "outputs": [],
   "source": [
    "clf = LogisticRegression(penalty = 'l1', C = 1,class_weight = 'balanced')\n",
    "clf.fit(bow_train,y_train)\n",
    "pred = clf.predict(bow_test)\n",
    "pred_train = clf.predict(bow_train)\n",
    "test_error = 1-accuracy_score(y_test,pred)\n",
    "train_error = 1-accuracy_score(y_train,pred_train)"
   ]
  },
  {
   "cell_type": "code",
   "execution_count": 177,
   "metadata": {},
   "outputs": [
    {
     "name": "stdout",
     "output_type": "stream",
     "text": [
      "Error on test 10.7066666667\n",
      "Error on train 6.48571428571\n",
      "Sparsity 5098\n"
     ]
    }
   ],
   "source": [
    "print('Error on test',test_error*100)\n",
    "print('Error on train',train_error*100)\n",
    "w = clf.coef_\n",
    "print('Sparsity',np.count_nonzero(w)-len(w))"
   ]
  },
  {
   "cell_type": "code",
   "execution_count": 178,
   "metadata": {
    "collapsed": true
   },
   "outputs": [],
   "source": [
    "clf = LogisticRegression(penalty = 'l1', C = 10,class_weight = 'balanced')\n",
    "clf.fit(bow_train,y_train)\n",
    "pred = clf.predict(bow_test)\n",
    "pred_train = clf.predict(bow_train)\n",
    "test_error = 1-accuracy_score(y_test,pred)\n",
    "train_error = 1-accuracy_score(y_train,pred_train)"
   ]
  },
  {
   "cell_type": "code",
   "execution_count": 179,
   "metadata": {},
   "outputs": [
    {
     "name": "stdout",
     "output_type": "stream",
     "text": [
      "Error on test 11.0633333333\n",
      "Error on train 2.44857142857\n",
      "Sparsity 9747\n"
     ]
    }
   ],
   "source": [
    "print('Error on test',test_error*100)\n",
    "print('Error on train',train_error*100)\n",
    "w = clf.coef_\n",
    "print('Sparsity',np.count_nonzero(w)-len(w))"
   ]
  },
  {
   "cell_type": "markdown",
   "metadata": {},
   "source": [
    "# Result with L1\n",
    "1. C = 0.1 , ERROR ON TEST - 12.24 , ERROR IN TRAIN - 11.375 , SPARSITY - 1275\n",
    "2. C = 1 , ERROR ON TEST - 10.7 , ERROR IN TRAIN - 6.48 , SPARSITY - 5048\n",
    "3. C = 10 , ERROR ON TEST - 11.06 , ERROR IN TRAIN - 2.448 , SPARSITY - 9747"
   ]
  },
  {
   "cell_type": "code",
   "execution_count": 180,
   "metadata": {
    "scrolled": true
   },
   "outputs": [
    {
     "name": "stdout",
     "output_type": "stream",
     "text": [
      "LogisticRegression(C=1, class_weight='balanced', dual=False,\n",
      "          fit_intercept=True, intercept_scaling=1, max_iter=100,\n",
      "          multi_class='ovr', n_jobs=1, penalty='l2', random_state=None,\n",
      "          solver='liblinear', tol=0.0001, verbose=0, warm_start=False)\n",
      "Accuracy  89.54\n"
     ]
    }
   ],
   "source": [
    "tunned_param = [{'C' : [10** -4, 10**-3,10**-2,10**-1,1,10,100,1000,10000]}]\n",
    "from sklearn.linear_model import LogisticRegression\n",
    "from sklearn.model_selection import GridSearchCV\n",
    "model  = GridSearchCV(LogisticRegression(class_weight = 'balanced'),tunned_param , scoring = 'accuracy',cv = 10,n_jobs = -1)\n",
    "model.fit(bow_train,y_train)\n",
    "print(model.best_estimator_)\n",
    "pred = model.predict(bow_test)\n",
    "print('Accuracy ',accuracy_score(y_test,pred)*100)"
   ]
  },
  {
   "cell_type": "code",
   "execution_count": 181,
   "metadata": {
    "scrolled": true
   },
   "outputs": [
    {
     "name": "stdout",
     "output_type": "stream",
     "text": [
      "             precision    recall  f1-score   support\n",
      "\n",
      "   negative       0.56      0.78      0.66      3811\n",
      "   positive       0.97      0.91      0.94     26189\n",
      "\n",
      "avg / total       0.92      0.90      0.90     30000\n",
      "\n"
     ]
    }
   ],
   "source": [
    "from sklearn.metrics import classification_report\n",
    "print(classification_report(y_test,pred))"
   ]
  },
  {
   "cell_type": "code",
   "execution_count": 182,
   "metadata": {
    "scrolled": false
   },
   "outputs": [
    {
     "name": "stdout",
     "output_type": "stream",
     "text": [
      "RECALL SCORE\n",
      "0.911756844477\n",
      "0.782996588822\n",
      "\n",
      "\n",
      "PRECISION SCORE\n",
      "0.96652499494\n",
      "0.563550519358\n"
     ]
    }
   ],
   "source": [
    "from sklearn.metrics import recall_score , precision_score , roc_auc_score ,roc_curve\n",
    "print('RECALL SCORE')\n",
    "print(recall_score(y_test,pred,pos_label = 'positive'))\n",
    "print(recall_score(y_test,pred,pos_label= 'negative') )\n",
    "print('\\n')\n",
    "print('PRECISION SCORE')\n",
    "print(precision_score(y_test,pred,pos_label = 'positive'))\n",
    "print(precision_score(y_test,pred,pos_label = 'negative'))"
   ]
  },
  {
   "cell_type": "code",
   "execution_count": 183,
   "metadata": {
    "scrolled": true
   },
   "outputs": [
    {
     "data": {
      "image/png": "[encoded data removed]",
      "text/plain": [
       "<matplotlib.figure.Figure at 0x1ee3521f320>"
      ]
     },
     "metadata": {},
     "output_type": "display_data"
    }
   ],
   "source": [
    "change = lambda x : 1 if x == 'positive' else 0\n",
    "y_true = np.array([change(x) for x in y_test])\n",
    "y_pred = model.predict_proba(bow_test)[:,1]\n",
    "fpr,tpr,thresholds = roc_curve(y_true, y_pred)\n",
    "plt.plot(fpr,tpr,'r--')\n",
    "plt.ylabel('True Positive Rate')\n",
    "plt.xlabel('False Positive Rate')\n",
    "plt.legend()\n",
    "plt.show()"
   ]
  },
  {
   "cell_type": "code",
   "execution_count": 184,
   "metadata": {
    "scrolled": true
   },
   "outputs": [
    {
     "name": "stdout",
     "output_type": "stream",
     "text": [
      "0.920404717222\n"
     ]
    }
   ],
   "source": [
    "print(roc_auc_score(y_true,y_pred))"
   ]
  },
  {
   "cell_type": "code",
   "execution_count": 185,
   "metadata": {
    "scrolled": false
   },
   "outputs": [
    {
     "name": "stdout",
     "output_type": "stream",
     "text": [
      "[[ 2984   827]\n",
      " [ 2311 23878]]\n"
     ]
    },
    {
     "data": {
      "image/png": "[encoded data removed]",
      "text/plain": [
       "<matplotlib.figure.Figure at 0x1ee5c162358>"
      ]
     },
     "metadata": {},
     "output_type": "display_data"
    }
   ],
   "source": [
    "from sklearn.metrics import confusion_matrix\n",
    "import seaborn as sns\n",
    "confusion = confusion_matrix(y_test , pred)\n",
    "print(confusion)\n",
    "df_cm = pd.DataFrame(confusion , index = ['Negative','Positive'])\n",
    "sns.heatmap(df_cm ,annot = True)\n",
    "plt.xticks([0.5,1.5],['Negative','Positive'],rotation = 45)\n",
    "plt.xlabel(\"Predicted\")\n",
    "plt.ylabel(\"Actual\")\n",
    "plt.show()"
   ]
  },
  {
   "cell_type": "markdown",
   "metadata": {},
   "source": [
    "<h3>Logistic Regression on BOW with L2</h3>\n",
    "* Optimal C = 1\n",
    "* Accuracy = 89.84\n",
    "* Precision = 0.96(positive), 0.56(negative)\n",
    "* Recall = 0.91 ,0.78\n",
    "* AUC = 0.92\n",
    "* TN = 2984\n",
    "* TP = 23878\n"
   ]
  },
  {
   "cell_type": "code",
   "execution_count": 186,
   "metadata": {},
   "outputs": [
    {
     "data": {
      "text/plain": [
       "LogisticRegression(C=1, class_weight='balanced', dual=False,\n",
       "          fit_intercept=True, intercept_scaling=1, max_iter=100,\n",
       "          multi_class='ovr', n_jobs=1, penalty='l2', random_state=None,\n",
       "          solver='liblinear', tol=0.0001, verbose=0, warm_start=False)"
      ]
     },
     "execution_count": 186,
     "metadata": {},
     "output_type": "execute_result"
    }
   ],
   "source": [
    "clf = LogisticRegression(class_weight = 'balanced',C = 1)\n",
    "clf.fit(bow_train,y_train)"
   ]
  },
  {
   "cell_type": "code",
   "execution_count": 187,
   "metadata": {},
   "outputs": [
    {
     "name": "stdout",
     "output_type": "stream",
     "text": [
      "[[ -6.92004818e-03   7.78286830e-02   5.95620395e-06 ...,   9.93296045e-02\n",
      "   -7.35283969e-02   3.43243715e-05]]\n"
     ]
    }
   ],
   "source": [
    "w = clf.coef_\n",
    "print(w)"
   ]
  },
  {
   "cell_type": "markdown",
   "metadata": {},
   "source": [
    "# Multicollinearity check"
   ]
  },
  {
   "cell_type": "code",
   "execution_count": 188,
   "metadata": {
    "collapsed": true
   },
   "outputs": [],
   "source": [
    "rand = np.random.normal(loc = 0,scale = 0.01, size = 1)\n",
    "bow_train.data = bow_train.data + rand"
   ]
  },
  {
   "cell_type": "code",
   "execution_count": 190,
   "metadata": {},
   "outputs": [
    {
     "name": "stdout",
     "output_type": "stream",
     "text": [
      "LogisticRegression(C=1, class_weight='balanced', dual=False,\n",
      "          fit_intercept=True, intercept_scaling=1, max_iter=100,\n",
      "          multi_class='ovr', n_jobs=1, penalty='l2', random_state=None,\n",
      "          solver='liblinear', tol=0.0001, verbose=0, warm_start=False)\n"
     ]
    }
   ],
   "source": [
    "mod  = GridSearchCV(LogisticRegression(class_weight = 'balanced'),tunned_param , scoring = 'accuracy',cv = 10,n_jobs = -1)\n",
    "mod.fit(bow_train,y_train)\n",
    "print(model.best_estimator_)"
   ]
  },
  {
   "cell_type": "code",
   "execution_count": 191,
   "metadata": {
    "scrolled": false
   },
   "outputs": [
    {
     "data": {
      "text/plain": [
       "LogisticRegression(C=1, class_weight='balanced', dual=False,\n",
       "          fit_intercept=True, intercept_scaling=1, max_iter=100,\n",
       "          multi_class='ovr', n_jobs=1, penalty='l2', random_state=None,\n",
       "          solver='liblinear', tol=0.0001, verbose=0, warm_start=False)"
      ]
     },
     "execution_count": 191,
     "metadata": {},
     "output_type": "execute_result"
    }
   ],
   "source": [
    "clf_noise = LogisticRegression(class_weight = 'balanced',C = 1)\n",
    "clf_noise.fit(bow_train,y_train)"
   ]
  },
  {
   "cell_type": "code",
   "execution_count": 192,
   "metadata": {
    "scrolled": true
   },
   "outputs": [
    {
     "name": "stdout",
     "output_type": "stream",
     "text": [
      "[[ -6.94135146e-03   7.83005056e-02   6.15526665e-06 ...,   9.97149823e-02\n",
      "   -7.36787442e-02   3.34816168e-05]]\n"
     ]
    }
   ],
   "source": [
    "w_noise = clf_noise.coef_\n",
    "print(w_noise)"
   ]
  },
  {
   "cell_type": "code",
   "execution_count": 193,
   "metadata": {
    "collapsed": true
   },
   "outputs": [],
   "source": [
    "per =((w_noise[0] - w[0])/abs(w[0]))\n",
    "per = abs(per)\n",
    "len_per = len(per)\n",
    "change = []\n",
    "for i in per:\n",
    "    if i > 0.3:\n",
    "         change.append(i)\n",
    "len_change = len(change)"
   ]
  },
  {
   "cell_type": "code",
   "execution_count": 195,
   "metadata": {
    "scrolled": true
   },
   "outputs": [
    {
     "name": "stdout",
     "output_type": "stream",
     "text": [
      "32539\n",
      "2100\n",
      "Multicollinearity exists in features for change greater than 30% is 6.453793908847843 %\n"
     ]
    }
   ],
   "source": [
    "print(len_per)\n",
    "print(len_change)\n",
    "print('Multicollinearity exists in features for change greater than 30% is',(len_change/len_per)*100,'%')"
   ]
  },
  {
   "cell_type": "code",
   "execution_count": 196,
   "metadata": {
    "collapsed": true
   },
   "outputs": [],
   "source": [
    "change = []\n",
    "for i in per:\n",
    "    if i > 0.4:\n",
    "         change.append(i)\n",
    "len_change = len(change)"
   ]
  },
  {
   "cell_type": "code",
   "execution_count": 198,
   "metadata": {},
   "outputs": [
    {
     "name": "stdout",
     "output_type": "stream",
     "text": [
      "32539\n",
      "1954\n",
      "Multicollinearity exists in features for change greater than 40% is 6.005101570423185 %\n"
     ]
    }
   ],
   "source": [
    "print(len_per)\n",
    "print(len_change)\n",
    "print('Multicollinearity exists in features for change greater than 40% is',(len_change/len_per)*100,'%')"
   ]
  },
  {
   "cell_type": "markdown",
   "metadata": {},
   "source": [
    "<h4>Top 10 Features</h4>"
   ]
  },
  {
   "cell_type": "code",
   "execution_count": 199,
   "metadata": {},
   "outputs": [
    {
     "name": "stdout",
     "output_type": "stream",
     "text": [
      "[['worst' 'perricon' 'secondli' ..., 'skeptic' 'downsid' 'pleasantli']]\n"
     ]
    }
   ],
   "source": [
    "indices = w.argsort()[::-1][:10]\n",
    "print(np.take(count_vect.get_feature_names(),indices))"
   ]
  },
  {
   "cell_type": "markdown",
   "metadata": {},
   "source": [
    "# Logistic regression on tfidf"
   ]
  },
  {
   "cell_type": "code",
   "execution_count": 200,
   "metadata": {},
   "outputs": [
    {
     "name": "stdout",
     "output_type": "stream",
     "text": [
      "LogisticRegression(C=0.01, class_weight='balanced', dual=False,\n",
      "          fit_intercept=True, intercept_scaling=1, max_iter=100,\n",
      "          multi_class='ovr', n_jobs=1, penalty='l1', random_state=None,\n",
      "          solver='liblinear', tol=0.0001, verbose=0, warm_start=False)\n",
      "Accuracy is  89.4066666667\n"
     ]
    }
   ],
   "source": [
    "tfidf_vect = TfidfVectorizer()\n",
    "tfidf_train = tfidf_vect.fit_transform (X_train)\n",
    "tfidf_test = tfidf_vect.transform(X_test)\n",
    "from sklearn.preprocessing import StandardScaler\n",
    "sc = StandardScaler(with_mean = False)\n",
    "X_tr = sc.fit_transform(tfidf_train)\n",
    "X_te = sc.transform(tfidf_test)\n",
    "param = [{'C':[10**i for i in range(-3,4)]}]\n",
    "gd = GridSearchCV(LogisticRegression(class_weight = 'balanced',penalty = 'l1'),param,cv = 10, scoring = 'accuracy',n_jobs = -1)\n",
    "gd.fit(X_tr,y_train)\n",
    "print(gd.best_estimator_)\n",
    "pred = gd.predict(X_te)\n",
    "print('Accuracy is ',accuracy_score(y_test,pred)*100)"
   ]
  },
  {
   "cell_type": "code",
   "execution_count": 201,
   "metadata": {},
   "outputs": [
    {
     "name": "stdout",
     "output_type": "stream",
     "text": [
      "             precision    recall  f1-score   support\n",
      "\n",
      "   negative       0.56      0.81      0.66      3811\n",
      "   positive       0.97      0.91      0.94     26189\n",
      "\n",
      "avg / total       0.92      0.89      0.90     30000\n",
      "\n",
      "\n",
      "\n",
      "Recall for positive 0.906869296269\n",
      "Recall for negative 0.806087641039\n",
      "\n",
      "\n",
      "Precision for postive 0.96982318592\n",
      "Precision for negative 0.557430593359\n"
     ]
    }
   ],
   "source": [
    "from sklearn.metrics import classification_report\n",
    "print(classification_report(y_test,pred))\n",
    "print('\\n')\n",
    "print('Recall for positive',recall_score(y_test,pred,pos_label = 'positive'))\n",
    "print('Recall for negative',recall_score(y_test,pred,pos_label = 'negative'))\n",
    "print('\\n')\n",
    "print('Precision for postive',precision_score(y_test,pred,pos_label = 'positive'))\n",
    "print('Precision for negative',precision_score(y_test,pred,pos_label = 'negative'))\n"
   ]
  },
  {
   "cell_type": "code",
   "execution_count": 202,
   "metadata": {},
   "outputs": [
    {
     "data": {
      "image/png": "[encoded data removed]",
      "text/plain": [
       "<matplotlib.figure.Figure at 0x1ee77b6bb70>"
      ]
     },
     "metadata": {},
     "output_type": "display_data"
    }
   ],
   "source": [
    "y_pred = gd.predict_proba(X_te)[:,1]\n",
    "fpr,tpr,thresholds = roc_curve(y_true, y_pred)\n",
    "plt.plot(fpr,tpr,'r--')\n",
    "plt.ylabel('True Positive Rate')\n",
    "plt.xlabel('False Positive Rate')\n",
    "plt.legend()\n",
    "plt.show()"
   ]
  },
  {
   "cell_type": "code",
   "execution_count": 203,
   "metadata": {},
   "outputs": [
    {
     "name": "stdout",
     "output_type": "stream",
     "text": [
      "ROC Score 0.936580162457\n",
      "\n",
      "\n",
      "[[ 3072   739]\n",
      " [ 2439 23750]]\n"
     ]
    },
    {
     "data": {
      "image/png": "[encoded data removed]",
      "text/plain": [
       "<matplotlib.figure.Figure at 0x1ee48d4a4e0>"
      ]
     },
     "metadata": {},
     "output_type": "display_data"
    }
   ],
   "source": [
    "print('ROC Score',roc_auc_score(y_true,y_pred))\n",
    "print('\\n')\n",
    "confusion = confusion_matrix(y_test , pred)\n",
    "print(confusion)\n",
    "df_cm = pd.DataFrame(confusion , index = ['Negative','Positive'])\n",
    "sns.heatmap(df_cm ,annot = True)\n",
    "plt.xticks([0.5,1.5],['Negative','Positive'],rotation = 45)\n",
    "plt.xlabel(\"Predicted\")\n",
    "plt.ylabel(\"Actual\")\n",
    "plt.show()"
   ]
  },
  {
   "cell_type": "markdown",
   "metadata": {},
   "source": [
    "<h3>Logistic Regression on Tfidf with L1</h3>\n",
    "* Optimal C = 0.01\n",
    "* Accuracy = 89.4\n",
    "* Precision = 0.96(positive), 0.55(negative)\n",
    "* Recall = 0.90 ,0.8\n",
    "* AUC = 0.93\n",
    "* TN = 3072\n",
    "* TP = 23750\n"
   ]
  },
  {
   "cell_type": "code",
   "execution_count": 204,
   "metadata": {
    "collapsed": true,
    "scrolled": true
   },
   "outputs": [],
   "source": [
    "lr_clf = LogisticRegression(penalty = 'l1', C = 0.1,class_weight = 'balanced')\n",
    "lr_clf.fit(X_tr,y_train)\n",
    "pred = lr_clf.predict(X_te)\n",
    "pred_train = lr_clf.predict(X_tr)\n",
    "test_error = 1-accuracy_score(y_test,pred)\n",
    "train_error = 1-accuracy_score(y_train,pred_train)"
   ]
  },
  {
   "cell_type": "code",
   "execution_count": 205,
   "metadata": {},
   "outputs": [
    {
     "name": "stdout",
     "output_type": "stream",
     "text": [
      "Error on test 11.65\n",
      "Error on train 2.64428571429\n",
      "Sparsity 12879\n"
     ]
    }
   ],
   "source": [
    "print('Error on test',test_error*100)\n",
    "print('Error on train',train_error*100)\n",
    "w = lr_clf.coef_\n",
    "print('Sparsity',np.count_nonzero(w)-len(w))"
   ]
  },
  {
   "cell_type": "code",
   "execution_count": 206,
   "metadata": {
    "collapsed": true,
    "scrolled": true
   },
   "outputs": [],
   "source": [
    "lr_clf = LogisticRegression(penalty = 'l1', C = 1,class_weight = 'balanced')\n",
    "lr_clf.fit(X_tr,y_train)\n",
    "pred = lr_clf.predict(X_te)\n",
    "pred_train = lr_clf.predict(X_tr)\n",
    "test_error = 1-accuracy_score(y_test,pred)\n",
    "train_error = 1-accuracy_score(y_train,pred_train)"
   ]
  },
  {
   "cell_type": "code",
   "execution_count": 207,
   "metadata": {},
   "outputs": [
    {
     "name": "stdout",
     "output_type": "stream",
     "text": [
      "Error on test 13.65\n",
      "Error on train 1.79571428571\n",
      "Sparsity 14055\n"
     ]
    }
   ],
   "source": [
    "print('Error on test',test_error*100)\n",
    "print('Error on train',train_error*100)\n",
    "w = lr_clf.coef_\n",
    "print('Sparsity',np.count_nonzero(w)-len(w))"
   ]
  },
  {
   "cell_type": "code",
   "execution_count": 208,
   "metadata": {
    "collapsed": true,
    "scrolled": true
   },
   "outputs": [],
   "source": [
    "lr_clf = LogisticRegression(penalty = 'l1', C = 10,class_weight = 'balanced')\n",
    "lr_clf.fit(X_tr,y_train)\n",
    "pred = lr_clf.predict(X_te)\n",
    "pred_train = lr_clf.predict(X_tr)\n",
    "test_error = 1-accuracy_score(y_test,pred)\n",
    "train_error = 1-accuracy_score(y_train,pred_train)"
   ]
  },
  {
   "cell_type": "code",
   "execution_count": 209,
   "metadata": {},
   "outputs": [
    {
     "name": "stdout",
     "output_type": "stream",
     "text": [
      "Error on test 14.3666666667\n",
      "Error on train 1.58714285714\n",
      "Sparsity 14596\n"
     ]
    }
   ],
   "source": [
    "print('Error on test',test_error*100)\n",
    "print('Error on train',train_error*100)\n",
    "w = lr_clf.coef_\n",
    "print('Sparsity',np.count_nonzero(w)-len(w))"
   ]
  },
  {
   "cell_type": "code",
   "execution_count": 210,
   "metadata": {
    "collapsed": true,
    "scrolled": true
   },
   "outputs": [],
   "source": [
    "lr_clf = LogisticRegression(penalty = 'l1', C = 100,class_weight = 'balanced')\n",
    "lr_clf.fit(X_tr,y_train)\n",
    "pred = lr_clf.predict(X_te)\n",
    "pred_train = lr_clf.predict(X_tr)\n",
    "test_error = 1-accuracy_score(y_test,pred)\n",
    "train_error = 1-accuracy_score(y_train,pred_train)"
   ]
  },
  {
   "cell_type": "code",
   "execution_count": 211,
   "metadata": {},
   "outputs": [
    {
     "name": "stdout",
     "output_type": "stream",
     "text": [
      "Error on test 14.5733333333\n",
      "Error on train 1.55714285714\n",
      "Sparsity 15651\n"
     ]
    }
   ],
   "source": [
    "print('Error on test',test_error*100)\n",
    "print('Error on train',train_error*100)\n",
    "w = lr_clf.coef_\n",
    "print('Sparsity',np.count_nonzero(w)-len(w))"
   ]
  },
  {
   "cell_type": "markdown",
   "metadata": {},
   "source": [
    "# Result with L1\n",
    "1. C = 0.1 , ERROR ON TEST - 11.65 , ERROR IN TRAIN - 2.64 , SPARSITY - 12879\n",
    "2. C = 1 , ERROR ON TEST - 13.65 , ERROR IN TRAIN - 1.79 , SPARSITY - 14055\n",
    "3. C = 10 , ERROR ON TEST - 14.3 , ERROR IN TRAIN - 1.5 , SPARSITY - 14596\n",
    "4. C = 100 , ERROR ON TEST - 14.57 , ERROR IN TRAIN - 1.55 , SPARSITY - 15651"
   ]
  },
  {
   "cell_type": "code",
   "execution_count": 212,
   "metadata": {
    "scrolled": true
   },
   "outputs": [
    {
     "name": "stdout",
     "output_type": "stream",
     "text": [
      "LogisticRegression(C=1, class_weight='balanced', dual=False,\n",
      "          fit_intercept=True, intercept_scaling=1, max_iter=100,\n",
      "          multi_class='ovr', n_jobs=1, penalty='l2', random_state=None,\n",
      "          solver='liblinear', tol=0.0001, verbose=0, warm_start=False)\n",
      "Accuracy  89.53\n"
     ]
    }
   ],
   "source": [
    "model  = GridSearchCV(LogisticRegression(class_weight = 'balanced'),tunned_param , scoring = 'accuracy',cv = 10,n_jobs = -1)\n",
    "model.fit(X_tr,y_train)\n",
    "print(model.best_estimator_)\n",
    "pred = model.predict(X_te)\n",
    "print('Accuracy ',accuracy_score(y_test,pred)*100)"
   ]
  },
  {
   "cell_type": "code",
   "execution_count": 213,
   "metadata": {},
   "outputs": [
    {
     "name": "stdout",
     "output_type": "stream",
     "text": [
      "             precision    recall  f1-score   support\n",
      "\n",
      "   negative       0.56      0.78      0.66      3811\n",
      "   positive       0.97      0.91      0.94     26189\n",
      "\n",
      "avg / total       0.92      0.90      0.90     30000\n",
      "\n",
      "\n",
      "\n",
      "Recall for positive 0.911604108595\n",
      "Recall for negative 0.783258987142\n",
      "\n",
      "\n",
      "Precision for postive 0.966558704453\n",
      "Precision for negative 0.56320754717\n"
     ]
    }
   ],
   "source": [
    "print(classification_report(y_test,pred))\n",
    "print('\\n')\n",
    "print('Recall for positive',recall_score(y_test,pred,pos_label = 'positive'))\n",
    "print('Recall for negative',recall_score(y_test,pred,pos_label = 'negative'))\n",
    "print('\\n')\n",
    "print('Precision for postive',precision_score(y_test,pred,pos_label = 'positive'))\n",
    "print('Precision for negative',precision_score(y_test,pred,pos_label = 'negative'))"
   ]
  },
  {
   "cell_type": "code",
   "execution_count": 214,
   "metadata": {},
   "outputs": [
    {
     "data": {
      "image/png": "[encoded data removed]",
      "text/plain": [
       "<matplotlib.figure.Figure at 0x1ee5f6b5358>"
      ]
     },
     "metadata": {},
     "output_type": "display_data"
    }
   ],
   "source": [
    "y_pred = gd.predict_proba(X_te)[:,1]\n",
    "fpr,tpr,thresholds = roc_curve(y_true, y_pred)\n",
    "plt.plot(fpr,tpr,'r--')\n",
    "plt.ylabel('True Positive Rate')\n",
    "plt.xlabel('False Positive Rate')\n",
    "plt.legend()\n",
    "plt.show()"
   ]
  },
  {
   "cell_type": "code",
   "execution_count": 215,
   "metadata": {
    "scrolled": false
   },
   "outputs": [
    {
     "name": "stdout",
     "output_type": "stream",
     "text": [
      "ROC Score 0.936580162457\n",
      "\n",
      "\n",
      "[[ 2985   826]\n",
      " [ 2315 23874]]\n"
     ]
    },
    {
     "data": {
      "image/png": "[encoded data removed]",
      "text/plain": [
       "<matplotlib.figure.Figure at 0x1ee5384f240>"
      ]
     },
     "metadata": {},
     "output_type": "display_data"
    }
   ],
   "source": [
    "print('ROC Score',roc_auc_score(y_true,y_pred))\n",
    "print('\\n')\n",
    "confusion = confusion_matrix(y_test , pred)\n",
    "print(confusion)\n",
    "df_cm = pd.DataFrame(confusion , index = ['Negative','Positive'])\n",
    "sns.heatmap(df_cm ,annot = True)\n",
    "plt.xticks([0.5,1.5],['Negative','Positive'],rotation = 45)\n",
    "plt.xlabel(\"Predicted\")\n",
    "plt.ylabel(\"Actual\")\n",
    "plt.show()"
   ]
  },
  {
   "cell_type": "markdown",
   "metadata": {},
   "source": [
    "<h3>Logistic Regression on Tfidf with L2</h3>\n",
    "* Optimal C = 1\n",
    "* Accuracy = 89.53\n",
    "* Precision = 0.96(positive), 0.56(negative)\n",
    "* Recall = 0.91 ,0.78\n",
    "* AUC = 0.93\n",
    "* TN = 2985\n",
    "* TP = 23874\n"
   ]
  },
  {
   "cell_type": "code",
   "execution_count": 216,
   "metadata": {
    "scrolled": true
   },
   "outputs": [
    {
     "name": "stdout",
     "output_type": "stream",
     "text": [
      "[[ -1.25793095e-02   1.76258923e-02  -1.30055807e-04 ...,   8.56353978e-03\n",
      "   -2.51499143e-02  -3.01451572e-05]]\n"
     ]
    }
   ],
   "source": [
    "clf = LogisticRegression(C = 1 ,class_weight = 'balanced')\n",
    "clf.fit(X_tr,y_train)\n",
    "w_tfidf = clf.coef_\n",
    "print(w_tfidf)\n",
    "X_tr.data = X_tr.data + rand"
   ]
  },
  {
   "cell_type": "markdown",
   "metadata": {},
   "source": [
    "# Multicollinearity check"
   ]
  },
  {
   "cell_type": "code",
   "execution_count": 217,
   "metadata": {},
   "outputs": [
    {
     "name": "stdout",
     "output_type": "stream",
     "text": [
      "LogisticRegression(C=1, class_weight='balanced', dual=False,\n",
      "          fit_intercept=True, intercept_scaling=1, max_iter=100,\n",
      "          multi_class='ovr', n_jobs=1, penalty='l2', random_state=None,\n",
      "          solver='liblinear', tol=0.0001, verbose=0, warm_start=False)\n"
     ]
    }
   ],
   "source": [
    "mod  = GridSearchCV(LogisticRegression(class_weight = 'balanced'),tunned_param , scoring = 'accuracy',cv = 10,n_jobs = -1)\n",
    "mod.fit(X_tr,y_train)\n",
    "print(model.best_estimator_)"
   ]
  },
  {
   "cell_type": "code",
   "execution_count": 218,
   "metadata": {},
   "outputs": [
    {
     "name": "stdout",
     "output_type": "stream",
     "text": [
      "[[ -1.25791645e-02   1.78795801e-02  -1.11783373e-05 ...,   8.55776575e-03\n",
      "   -2.55559428e-02   2.79360564e-06]]\n"
     ]
    }
   ],
   "source": [
    "clf_noise = LogisticRegression(class_weight = 'balanced',C = 1)\n",
    "clf_noise.fit(X_tr,y_train)\n",
    "w_d = clf_noise.coef_\n",
    "print(w_d)"
   ]
  },
  {
   "cell_type": "code",
   "execution_count": 219,
   "metadata": {
    "collapsed": true
   },
   "outputs": [],
   "source": [
    "tf_per = ((w_d - w_tfidf)/abs(w_tfidf))\n",
    "tf_per = abs(tf_per)[0]\n",
    "ch_tfidf = []\n",
    "for i in tf_per:\n",
    "    if i > 0.3:\n",
    "        ch_tfidf.append(i)"
   ]
  },
  {
   "cell_type": "code",
   "execution_count": 221,
   "metadata": {},
   "outputs": [
    {
     "name": "stdout",
     "output_type": "stream",
     "text": [
      "9564\n",
      "32539\n",
      "Multicollinearity exists in features for change greater than 30% is 29.392421402009894 %\n",
      "None\n"
     ]
    }
   ],
   "source": [
    "print(len(ch_tfidf))\n",
    "print(len(tf_per))\n",
    "print(print('Multicollinearity exists in features for change greater than 30% is',(len(ch_tfidf)/len(tf_per))*100,'%'))"
   ]
  },
  {
   "cell_type": "code",
   "execution_count": 222,
   "metadata": {
    "collapsed": true
   },
   "outputs": [],
   "source": [
    "ch_tfidf = []\n",
    "for i in tf_per:\n",
    "    if i > 0.4:\n",
    "        ch_tfidf.append(i)"
   ]
  },
  {
   "cell_type": "code",
   "execution_count": 224,
   "metadata": {
    "scrolled": true
   },
   "outputs": [
    {
     "name": "stdout",
     "output_type": "stream",
     "text": [
      "9357\n",
      "32539\n",
      "Multicollinearity exists in features for change greater than 40% is 28.75626171670918 %\n",
      "None\n"
     ]
    }
   ],
   "source": [
    "print(len(ch_tfidf))\n",
    "print(len(tf_per))\n",
    "print(print('Multicollinearity exists in features for change greater than 40% is',(len(ch_tfidf)/len(tf_per))*100,'%'))"
   ]
  },
  {
   "cell_type": "markdown",
   "metadata": {},
   "source": [
    "<h4>Top 10 Features</h4>"
   ]
  },
  {
   "cell_type": "code",
   "execution_count": 225,
   "metadata": {},
   "outputs": [
    {
     "name": "stdout",
     "output_type": "stream",
     "text": [
      "[['worst' 'disappoint' 'tast' ..., 'highli' 'love' 'great']]\n"
     ]
    }
   ],
   "source": [
    "index = w_tfidf.argsort()[::-1][:10]\n",
    "print(np.take(tfidf_vect.get_feature_names(),index))"
   ]
  },
  {
   "cell_type": "markdown",
   "metadata": {},
   "source": [
    "# Logistic Regression on Avg W2Vec"
   ]
  },
  {
   "cell_type": "code",
   "execution_count": 226,
   "metadata": {
    "collapsed": true
   },
   "outputs": [],
   "source": [
    "list_of_sent_train = []\n",
    "for i in X_train:\n",
    "    sent = []\n",
    "    for word in i.split():\n",
    "        sent.append(word.decode('utf-8'))\n",
    "    list_of_sent_train.append(sent)"
   ]
  },
  {
   "cell_type": "code",
   "execution_count": 227,
   "metadata": {
    "scrolled": true
   },
   "outputs": [
    {
     "name": "stdout",
     "output_type": "stream",
     "text": [
      "70000\n"
     ]
    }
   ],
   "source": [
    "from gensim.models import Word2Vec\n",
    "w2v_model = Word2Vec(list_of_sent_train,min_count = 5,size = 50,workers = 4)\n",
    "sent_vectors_train = []\n",
    "for sent in list_of_sent_train:\n",
    "    sent_vec = np.zeros(50)\n",
    "    cnt_word = 0\n",
    "    for word in sent:\n",
    "        try:\n",
    "            vec = w2v_model.wv[word]\n",
    "            sent_vec += vec\n",
    "            cnt_word += 1\n",
    "        except:\n",
    "            pass\n",
    "    sent_vec /= cnt_word\n",
    "    sent_vectors_train.append(sent_vec)\n",
    "print(len(sent_vectors_train))"
   ]
  },
  {
   "cell_type": "code",
   "execution_count": 228,
   "metadata": {
    "collapsed": true
   },
   "outputs": [],
   "source": [
    "list_of_sent_test = []\n",
    "for i in X_test:\n",
    "    sent = []\n",
    "    for word in i.split():\n",
    "        sent.append(word.decode('utf-8'))\n",
    "    list_of_sent_test.append(sent)"
   ]
  },
  {
   "cell_type": "code",
   "execution_count": 229,
   "metadata": {},
   "outputs": [
    {
     "name": "stdout",
     "output_type": "stream",
     "text": [
      "30000\n"
     ]
    }
   ],
   "source": [
    "import warnings\n",
    "warnings.filterwarnings(\"ignore\")\n",
    "from gensim.models import Word2Vec\n",
    "w2v_model = Word2Vec(list_of_sent_test,min_count = 5,size = 50,workers = 4)\n",
    "sent_vectors_test = []\n",
    "for sent in list_of_sent_test:\n",
    "    sent_vec = np.zeros(50)\n",
    "    cnt_word = 0\n",
    "    for word in sent:\n",
    "        try:\n",
    "            vec = w2v_model.wv[word]\n",
    "            sent_vec += vec\n",
    "            cnt_word += 1\n",
    "        except:\n",
    "            pass\n",
    "    sent_vec /= cnt_word\n",
    "    sent_vectors_test.append(sent_vec)\n",
    "print(len(sent_vectors_test))"
   ]
  },
  {
   "cell_type": "code",
   "execution_count": 230,
   "metadata": {},
   "outputs": [
    {
     "data": {
      "text/plain": [
       "(array([], dtype=int64), array([], dtype=int64))"
      ]
     },
     "execution_count": 230,
     "metadata": {},
     "output_type": "execute_result"
    }
   ],
   "source": [
    "np.where(np.isnan(sent_vectors_test))"
   ]
  },
  {
   "cell_type": "code",
   "execution_count": 231,
   "metadata": {},
   "outputs": [
    {
     "name": "stdout",
     "output_type": "stream",
     "text": [
      "LogisticRegression(C=10, class_weight='balanced', dual=False,\n",
      "          fit_intercept=True, intercept_scaling=1, max_iter=100,\n",
      "          multi_class='ovr', n_jobs=1, penalty='l1', random_state=None,\n",
      "          solver='liblinear', tol=0.0001, verbose=0, warm_start=False)\n",
      "accuracy is 87.6833333333\n"
     ]
    }
   ],
   "source": [
    "sc = StandardScaler()\n",
    "w2v_train = sc.fit_transform(sent_vectors_train)\n",
    "w2v_test = sc.transform(sent_vectors_test)\n",
    "param = [{'C':[10**i for i in range(-3,4)]}]\n",
    "w2v_model = GridSearchCV(LogisticRegression(class_weight = 'balanced',penalty = 'l1'),param,scoring = 'accuracy',cv = 10,n_jobs = -1,)\n",
    "w2v_model.fit(w2v_train,y_train)\n",
    "print(w2v_model.best_estimator_)\n",
    "pred = w2v_model.predict(w2v_test)\n",
    "acc = accuracy_score(y_test,pred)\n",
    "print('accuracy is',acc*100)"
   ]
  },
  {
   "cell_type": "code",
   "execution_count": 232,
   "metadata": {},
   "outputs": [
    {
     "name": "stdout",
     "output_type": "stream",
     "text": [
      "             precision    recall  f1-score   support\n",
      "\n",
      "   negative       0.52      0.49      0.50      3811\n",
      "   positive       0.93      0.93      0.93     26189\n",
      "\n",
      "avg / total       0.87      0.88      0.88     30000\n",
      "\n",
      "\n",
      "\n",
      "Recall for positive 0.933483523617\n",
      "Recall for negative 0.487536079769\n",
      "\n",
      "\n",
      "Precision for postive 0.926022727273\n",
      "Precision for negative 0.516111111111\n"
     ]
    }
   ],
   "source": [
    "from sklearn.metrics import classification_report\n",
    "print(classification_report(y_test,pred))\n",
    "print('\\n')\n",
    "print('Recall for positive',recall_score(y_test,pred,pos_label = 'positive'))\n",
    "print('Recall for negative',recall_score(y_test,pred,pos_label = 'negative'))\n",
    "print('\\n')\n",
    "print('Precision for postive',precision_score(y_test,pred,pos_label = 'positive'))\n",
    "print('Precision for negative',precision_score(y_test,pred,pos_label = 'negative'))\n"
   ]
  },
  {
   "cell_type": "code",
   "execution_count": 233,
   "metadata": {
    "scrolled": true
   },
   "outputs": [
    {
     "data": {
      "image/png": "[encoded data removed]",
      "text/plain": [
       "<matplotlib.figure.Figure at 0x1ee4ec47160>"
      ]
     },
     "metadata": {},
     "output_type": "display_data"
    }
   ],
   "source": [
    "change = lambda x : 1 if x == 'positive' else 0\n",
    "y_true = np.array([change(x) for x in y_test])\n",
    "y_pred = w2v_model.predict_proba(w2v_test)[:,1]\n",
    "fpr,tpr,thresholds = roc_curve(y_true, y_pred)\n",
    "plt.plot(fpr,tpr,'r--')\n",
    "plt.ylabel('True Positive Rate')\n",
    "plt.xlabel('False Positive Rate')\n",
    "plt.legend()\n",
    "plt.show()"
   ]
  },
  {
   "cell_type": "code",
   "execution_count": 234,
   "metadata": {
    "scrolled": false
   },
   "outputs": [
    {
     "name": "stdout",
     "output_type": "stream",
     "text": [
      "ROC Score 0.862073848079\n",
      "\n",
      "\n",
      "[[ 1858  1953]\n",
      " [ 1742 24447]]\n"
     ]
    },
    {
     "data": {
      "image/png": "[encoded data removed]",
      "text/plain": [
       "<matplotlib.figure.Figure at 0x1ee2919e9b0>"
      ]
     },
     "metadata": {},
     "output_type": "display_data"
    }
   ],
   "source": [
    "print('ROC Score',roc_auc_score(y_true,y_pred))\n",
    "print('\\n')\n",
    "confusion = confusion_matrix(y_test , pred)\n",
    "print(confusion)\n",
    "df_cm = pd.DataFrame(confusion , index = ['Negative','Positive'])\n",
    "sns.heatmap(df_cm ,annot = True)\n",
    "plt.xticks([0.5,1.5],['Negative','Positive'],rotation = 45)\n",
    "plt.xlabel(\"Predicted\")\n",
    "plt.ylabel(\"Actual\")\n",
    "plt.show()"
   ]
  },
  {
   "cell_type": "markdown",
   "metadata": {},
   "source": [
    "<h3>Logistic Regression on Avg-w2vec with L1</h3>\n",
    "* Optimal C = 10\n",
    "* Accuracy = 87.68\n",
    "* Precision = 0.92(positive), 0.51(negative)\n",
    "* Recall = 0.93 ,0.48\n",
    "* AUC = 0.86\n",
    "* TN = 1858\n",
    "* TP = 24447\n"
   ]
  },
  {
   "cell_type": "code",
   "execution_count": 235,
   "metadata": {
    "collapsed": true,
    "scrolled": true
   },
   "outputs": [],
   "source": [
    "lr_clf = LogisticRegression(penalty = 'l1', C = 0.1,class_weight = 'balanced')\n",
    "lr_clf.fit(w2v_train,y_train)\n",
    "pred = lr_clf.predict(w2v_test)\n",
    "pred_train = lr_clf.predict(w2v_train)\n",
    "test_error = 1-accuracy_score(y_test,pred)\n",
    "train_error = 1-accuracy_score(y_train,pred_train)"
   ]
  },
  {
   "cell_type": "code",
   "execution_count": 236,
   "metadata": {},
   "outputs": [
    {
     "name": "stdout",
     "output_type": "stream",
     "text": [
      "Error on test 13.1233333333\n",
      "Error on train 19.1542857143\n",
      "Sparsity 49\n"
     ]
    }
   ],
   "source": [
    "print('Error on test',test_error*100)\n",
    "print('Error on train',train_error*100)\n",
    "w = lr_clf.coef_\n",
    "print('Sparsity',np.count_nonzero(w)-len(w))"
   ]
  },
  {
   "cell_type": "code",
   "execution_count": 237,
   "metadata": {
    "collapsed": true,
    "scrolled": true
   },
   "outputs": [],
   "source": [
    "lr_clf = LogisticRegression(penalty = 'l1', C = 1,class_weight = 'balanced')\n",
    "lr_clf.fit(w2v_train,y_train)\n",
    "pred = lr_clf.predict(w2v_test)\n",
    "pred_train = lr_clf.predict(w2v_train)\n",
    "test_error = 1-accuracy_score(y_test,pred)\n",
    "train_error = 1-accuracy_score(y_train,pred_train)"
   ]
  },
  {
   "cell_type": "code",
   "execution_count": 238,
   "metadata": {},
   "outputs": [
    {
     "name": "stdout",
     "output_type": "stream",
     "text": [
      "Error on test 12.3566666667\n",
      "Error on train 19.1171428571\n",
      "Sparsity 49\n"
     ]
    }
   ],
   "source": [
    "print('Error on test',test_error*100)\n",
    "print('Error on train',train_error*100)\n",
    "w = lr_clf.coef_\n",
    "print('Sparsity',np.count_nonzero(w)-len(w))"
   ]
  },
  {
   "cell_type": "code",
   "execution_count": 239,
   "metadata": {
    "collapsed": true,
    "scrolled": true
   },
   "outputs": [],
   "source": [
    "lr_clf = LogisticRegression(penalty = 'l1', C = 10,class_weight = 'balanced')\n",
    "lr_clf.fit(w2v_train,y_train)\n",
    "pred = lr_clf.predict(w2v_test)\n",
    "pred_train = lr_clf.predict(w2v_train)\n",
    "test_error = 1-accuracy_score(y_test,pred)\n",
    "train_error = 1-accuracy_score(y_train,pred_train)"
   ]
  },
  {
   "cell_type": "code",
   "execution_count": 240,
   "metadata": {},
   "outputs": [
    {
     "name": "stdout",
     "output_type": "stream",
     "text": [
      "Error on test 12.3166666667\n",
      "Error on train 19.1157142857\n",
      "Sparsity 49\n"
     ]
    }
   ],
   "source": [
    "print('Error on test',test_error*100)\n",
    "print('Error on train',train_error*100)\n",
    "w = lr_clf.coef_\n",
    "print('Sparsity',np.count_nonzero(w)-len(w))"
   ]
  },
  {
   "cell_type": "code",
   "execution_count": 241,
   "metadata": {
    "collapsed": true,
    "scrolled": true
   },
   "outputs": [],
   "source": [
    "lr_clf = LogisticRegression(penalty = 'l1', C = 100,class_weight = 'balanced')\n",
    "lr_clf.fit(w2v_train,y_train)\n",
    "pred = lr_clf.predict(w2v_test)\n",
    "pred_train = lr_clf.predict(w2v_train)\n",
    "test_error = 1-accuracy_score(y_test,pred)\n",
    "train_error = 1-accuracy_score(y_train,pred_train)"
   ]
  },
  {
   "cell_type": "code",
   "execution_count": 242,
   "metadata": {},
   "outputs": [
    {
     "name": "stdout",
     "output_type": "stream",
     "text": [
      "Error on test 12.3066666667\n",
      "Error on train 19.1171428571\n",
      "Sparsity 49\n"
     ]
    }
   ],
   "source": [
    "print('Error on test',test_error*100)\n",
    "print('Error on train',train_error*100)\n",
    "w = lr_clf.coef_\n",
    "print('Sparsity',np.count_nonzero(w)-len(w))"
   ]
  },
  {
   "cell_type": "markdown",
   "metadata": {},
   "source": [
    "# Result with L1\n",
    "1. C = 0.1 , ERROR ON TEST - 11.65 , ERROR IN TRAIN - 2.64 , SPARSITY - 12879\n",
    "2. C = 1 , ERROR ON TEST - 13.65 , ERROR IN TRAIN - 1.79 , SPARSITY - 14055\n",
    "3. C = 10 , ERROR ON TEST - 14.3 , ERROR IN TRAIN - 1.5 , SPARSITY - 14596\n",
    "4. C = 100 , ERROR ON TEST - 14.57 , ERROR IN TRAIN - 1.55 , SPARSITY - 15651"
   ]
  },
  {
   "cell_type": "code",
   "execution_count": 243,
   "metadata": {
    "scrolled": true
   },
   "outputs": [
    {
     "name": "stdout",
     "output_type": "stream",
     "text": [
      "LogisticRegression(C=1, class_weight='balanced', dual=False,\n",
      "          fit_intercept=True, intercept_scaling=1, max_iter=100,\n",
      "          multi_class='ovr', n_jobs=1, penalty='l2', random_state=None,\n",
      "          solver='liblinear', tol=0.0001, verbose=0, warm_start=False)\n",
      "Accuracy  87.6533333333\n"
     ]
    }
   ],
   "source": [
    "model  = GridSearchCV(LogisticRegression(class_weight = 'balanced'),param , scoring = 'accuracy',cv = 10,n_jobs = -1)\n",
    "model.fit(w2v_train,y_train)\n",
    "print(model.best_estimator_)\n",
    "pred = model.predict(w2v_test)\n",
    "print('Accuracy ',accuracy_score(y_test,pred)*100)"
   ]
  },
  {
   "cell_type": "code",
   "execution_count": 244,
   "metadata": {},
   "outputs": [
    {
     "name": "stdout",
     "output_type": "stream",
     "text": [
      "             precision    recall  f1-score   support\n",
      "\n",
      "   negative       0.51      0.49      0.50      3811\n",
      "   positive       0.93      0.93      0.93     26189\n",
      "\n",
      "avg / total       0.87      0.88      0.88     30000\n",
      "\n",
      "\n",
      "\n",
      "Recall for positive 0.93279621215\n",
      "Recall for negative 0.489897664655\n",
      "\n",
      "\n",
      "Precision for postive 0.926288249346\n",
      "Precision for negative 0.514750482492\n"
     ]
    }
   ],
   "source": [
    "from sklearn.metrics import classification_report\n",
    "print(classification_report(y_test,pred))\n",
    "print('\\n')\n",
    "print('Recall for positive',recall_score(y_test,pred,pos_label = 'positive'))\n",
    "print('Recall for negative',recall_score(y_test,pred,pos_label = 'negative'))\n",
    "print('\\n')\n",
    "print('Precision for postive',precision_score(y_test,pred,pos_label = 'positive'))\n",
    "print('Precision for negative',precision_score(y_test,pred,pos_label = 'negative'))\n"
   ]
  },
  {
   "cell_type": "code",
   "execution_count": 245,
   "metadata": {
    "scrolled": false
   },
   "outputs": [
    {
     "data": {
      "image/png": "[encoded data removed]",
      "text/plain": [
       "<matplotlib.figure.Figure at 0x1ee550da588>"
      ]
     },
     "metadata": {},
     "output_type": "display_data"
    }
   ],
   "source": [
    "y_pred = model.predict_proba(w2v_test)[:,1]\n",
    "fpr,tpr,thresholds = roc_curve(y_true, y_pred)\n",
    "plt.plot(fpr,tpr,'r--')\n",
    "plt.ylabel('True Positive Rate')\n",
    "plt.xlabel('False Positive Rate')\n",
    "plt.legend()\n",
    "plt.show()"
   ]
  },
  {
   "cell_type": "code",
   "execution_count": 246,
   "metadata": {
    "scrolled": false
   },
   "outputs": [
    {
     "name": "stdout",
     "output_type": "stream",
     "text": [
      "ROC Score 0.86208826601\n",
      "\n",
      "\n",
      "[[ 1867  1944]\n",
      " [ 1760 24429]]\n"
     ]
    },
    {
     "data": {
      "image/png": "[encoded data removed]",
      "text/plain": [
       "<matplotlib.figure.Figure at 0x1ee2c5d5898>"
      ]
     },
     "metadata": {},
     "output_type": "display_data"
    }
   ],
   "source": [
    "print('ROC Score',roc_auc_score(y_true,y_pred))\n",
    "print('\\n')\n",
    "confusion = confusion_matrix(y_test , pred)\n",
    "print(confusion)\n",
    "df_cm = pd.DataFrame(confusion , index = ['Negative','Positive'])\n",
    "sns.heatmap(df_cm ,annot = True)\n",
    "plt.xticks([0.5,1.5],['Negative','Positive'],rotation = 45)\n",
    "plt.xlabel(\"Predicted\")\n",
    "plt.ylabel(\"Actual\")\n",
    "plt.show()"
   ]
  },
  {
   "cell_type": "markdown",
   "metadata": {},
   "source": [
    "<h3>Logistic Regression on Avg-w2vec with L2</h3>\n",
    "* Optimal C = 1\n",
    "* Accuracy = 87.65\n",
    "* Precision = 0.92(positive), 0.51(negative)\n",
    "* Recall = 0.93 ,0.48\n",
    "* AUC = 0.86\n",
    "* TN = 1867\n",
    "* TP = 24429\n"
   ]
  },
  {
   "cell_type": "code",
   "execution_count": 247,
   "metadata": {
    "scrolled": true
   },
   "outputs": [
    {
     "name": "stdout",
     "output_type": "stream",
     "text": [
      "[[ 0.37076776 -0.2148152   0.14269326  0.29113094 -0.59125307 -0.39804974\n",
      "  -0.06537678 -0.12409628  0.20793493  0.213885    0.61894019  0.0363619\n",
      "  -0.03263522 -0.0424642  -0.4021873   0.11352239  0.23690437 -0.13912004\n",
      "   0.32178556 -0.06122943  0.22543433  0.41542861  0.1521852   0.25600009\n",
      "   0.21987274  0.08733047 -0.45796842  0.47672939  0.08620495 -0.1207968\n",
      "  -0.28588186 -0.15767357 -0.33171879 -0.30709415 -0.80752824 -0.12577033\n",
      "  -0.35393806 -0.14555453 -0.18355871  0.40295549 -0.15255126  0.02824109\n",
      "  -0.34163162  0.07688974  0.09728864 -0.38529685 -0.14788566 -0.42100114\n",
      "   0.62512785 -0.4994952 ]]\n"
     ]
    }
   ],
   "source": [
    "clf = LogisticRegression(C = 1 ,class_weight = 'balanced')\n",
    "clf.fit(w2v_train,y_train)\n",
    "w_w2v = clf.coef_\n",
    "w2v_train.data = w2v_train.data + rand"
   ]
  },
  {
   "cell_type": "markdown",
   "metadata": {},
   "source": [
    "# Multicollinearity check"
   ]
  },
  {
   "cell_type": "code",
   "execution_count": 248,
   "metadata": {},
   "outputs": [
    {
     "name": "stdout",
     "output_type": "stream",
     "text": [
      "LogisticRegression(C=1, class_weight='balanced', dual=False,\n",
      "          fit_intercept=True, intercept_scaling=1, max_iter=100,\n",
      "          multi_class='ovr', n_jobs=1, penalty='l2', random_state=None,\n",
      "          solver='liblinear', tol=0.0001, verbose=0, warm_start=False)\n"
     ]
    }
   ],
   "source": [
    "mod  = GridSearchCV(LogisticRegression(class_weight = 'balanced'),tunned_param , scoring = 'accuracy',cv = 10,n_jobs = -1)\n",
    "mod.fit(w2v_train,y_train)\n",
    "print(mod.best_estimator_)"
   ]
  },
  {
   "cell_type": "code",
   "execution_count": 249,
   "metadata": {},
   "outputs": [
    {
     "name": "stdout",
     "output_type": "stream",
     "text": [
      "[[ 0.37074169 -0.21480769  0.14271536  0.29113785 -0.59122114 -0.39802131\n",
      "  -0.06539209 -0.12408598  0.20794021  0.21387863  0.61894129  0.0363702\n",
      "  -0.03264708 -0.04245962 -0.40218067  0.11351973  0.23688174 -0.13912112\n",
      "   0.32180065 -0.06119811  0.22544015  0.41544074  0.15219955  0.25602352\n",
      "   0.21988354  0.08731498 -0.45795553  0.47673351  0.08619895 -0.12079157\n",
      "  -0.28587255 -0.15766967 -0.33169755 -0.3070821  -0.80750977 -0.12576439\n",
      "  -0.35391471 -0.14552967 -0.18356721  0.40294866 -0.1525602   0.02822693\n",
      "  -0.34162572  0.07689781  0.09730443 -0.38530197 -0.14786992 -0.42098223\n",
      "   0.6251021  -0.49948318]]\n"
     ]
    }
   ],
   "source": [
    "clf_noise = LogisticRegression(class_weight = 'balanced',C = 1)\n",
    "clf_noise.fit(w2v_train,y_train)\n",
    "w_ = clf_noise.coef_"
   ]
  },
  {
   "cell_type": "code",
   "execution_count": 250,
   "metadata": {
    "collapsed": true
   },
   "outputs": [],
   "source": [
    "w_per = ((w_ - w_w2v)/abs(w_w2v))\n",
    "w_per = abs(w_per)[0]\n",
    "ch_w = []\n",
    "for i in w_per:\n",
    "    if i > 0.3:\n",
    "        ch_w.append(i)"
   ]
  },
  {
   "cell_type": "code",
   "execution_count": 252,
   "metadata": {},
   "outputs": [
    {
     "name": "stdout",
     "output_type": "stream",
     "text": [
      "0\n",
      "50\n",
      "Multicollinearity exists in features for change greater than 30% is 0.0 %\n",
      "None\n"
     ]
    }
   ],
   "source": [
    "print(len(ch_w))\n",
    "print(len(w_per))\n",
    "print(print('Multicollinearity exists in features for change greater than 30% is',(len(ch_w)/len(w_per))*100,'%'))"
   ]
  },
  {
   "cell_type": "code",
   "execution_count": 253,
   "metadata": {
    "collapsed": true
   },
   "outputs": [],
   "source": [
    "ch_w = []\n",
    "for i in w_per:\n",
    "    if i > 0.4:\n",
    "        ch_w.append(i)"
   ]
  },
  {
   "cell_type": "code",
   "execution_count": 255,
   "metadata": {},
   "outputs": [
    {
     "name": "stdout",
     "output_type": "stream",
     "text": [
      "0\n",
      "50\n",
      "Multicollinearity exists in features for change greater than 40% is 0.0 %\n",
      "None\n"
     ]
    }
   ],
   "source": [
    "print(len(ch_w))\n",
    "print(len(w_per))\n",
    "print(print('Multicollinearity exists in features for change greater than 40% is',(len(ch_w)/len(w_per))*100,'%'))"
   ]
  },
  {
   "cell_type": "markdown",
   "metadata": {},
   "source": [
    "<h4>Top 10 features</h4>"
   ]
  },
  {
   "cell_type": "code",
   "execution_count": 256,
   "metadata": {},
   "outputs": [
    {
     "name": "stdout",
     "output_type": "stream",
     "text": [
      "[-0.4994952   0.62512785 -0.42100114 -0.14788566 -0.38529685  0.09728864\n",
      "  0.07688974 -0.34163162  0.02824109 -0.15255126]\n"
     ]
    }
   ],
   "source": [
    "sr = sorted(w_w2v)[0]\n",
    "print(sr[::-1][:10])"
   ]
  },
  {
   "cell_type": "markdown",
   "metadata": {},
   "source": [
    "# Logistic Regression on Tfidf W2Vec"
   ]
  },
  {
   "cell_type": "code",
   "execution_count": 261,
   "metadata": {
    "collapsed": true
   },
   "outputs": [],
   "source": [
    "tf_idf_feat = tfidf_vect.get_feature_names()\n",
    "tfidf_sent_vec_train = []\n",
    "row = 0\n",
    "for sent in list_of_sent_train:\n",
    "    sent_vec = np.zeros(50)\n",
    "    weight_sum = 0\n",
    "    for word in sent:\n",
    "        try:\n",
    "            vec = w2v_model.wv[word]\n",
    "            tfidf = tfidf_train[row,tf_idf_feat.index(word)]\n",
    "            sent_vec += (vec*tfidf)\n",
    "            weight_sum += tfidf\n",
    "        except:\n",
    "            pass\n",
    "    sent_vec/= weight_sum\n",
    "    tfidf_sent_vec_train.append(sent_vec)\n",
    "    row += 1\n"
   ]
  },
  {
   "cell_type": "code",
   "execution_count": 262,
   "metadata": {
    "collapsed": true
   },
   "outputs": [],
   "source": [
    "tf_idf_feat = tfidf_vect.get_feature_names()\n",
    "tfidf_sent_vec_test = []\n",
    "row = 0\n",
    "for sent in list_of_sent_test:\n",
    "    sent_vec = np.zeros(50)\n",
    "    weight_sum = 0\n",
    "    for word in sent:\n",
    "        try:\n",
    "            vec = w2v_model.wv[word]\n",
    "            tfidf = tfidf_test[row,tf_idf_feat.index(word)]\n",
    "            sent_vec += (vec*tfidf)\n",
    "            weight_sum += tfidf\n",
    "        except:\n",
    "            pass\n",
    "    sent_vec/= weight_sum\n",
    "    tfidf_sent_vec_test.append(sent_vec)\n",
    "    row += 1\n"
   ]
  },
  {
   "cell_type": "code",
   "execution_count": 263,
   "metadata": {
    "scrolled": true
   },
   "outputs": [
    {
     "data": {
      "text/plain": [
       "(array([], dtype=int64), array([], dtype=int64))"
      ]
     },
     "execution_count": 263,
     "metadata": {},
     "output_type": "execute_result"
    }
   ],
   "source": [
    "np.where(np.isnan(tfidf_sent_vec_train))"
   ]
  },
  {
   "cell_type": "code",
   "execution_count": 264,
   "metadata": {
    "collapsed": true
   },
   "outputs": [],
   "source": [
    "#del tfidf_sent_vec_train[10706]"
   ]
  },
  {
   "cell_type": "code",
   "execution_count": 265,
   "metadata": {
    "collapsed": true
   },
   "outputs": [],
   "source": [
    "#y_train = np.delete(y_train,10706)"
   ]
  },
  {
   "cell_type": "code",
   "execution_count": 266,
   "metadata": {},
   "outputs": [
    {
     "name": "stdout",
     "output_type": "stream",
     "text": [
      "LogisticRegression(C=0.1, class_weight='balanced', dual=False,\n",
      "          fit_intercept=True, intercept_scaling=1, max_iter=100,\n",
      "          multi_class='ovr', n_jobs=1, penalty='l1', random_state=None,\n",
      "          solver='liblinear', tol=0.0001, verbose=0, warm_start=False)\n",
      "accuracy is 76.4133333333\n"
     ]
    }
   ],
   "source": [
    "sc =  StandardScaler()\n",
    "tfidf_w2v_train = sc.fit_transform(tfidf_sent_vec_train)\n",
    "tfidf_w2v_test = sc.transform(tfidf_sent_vec_test)\n",
    "param = [{'C':[10**i for i in range(-3,4)]}]\n",
    "wv_model = GridSearchCV(LogisticRegression(class_weight = 'balanced',penalty = 'l1'),param,scoring = 'accuracy',cv = 10,n_jobs = -1,)\n",
    "wv_model.fit(tfidf_w2v_train,y_train)\n",
    "print(wv_model.best_estimator_)\n",
    "pred = wv_model.predict(tfidf_w2v_test)\n",
    "acc = accuracy_score(y_test,pred)\n",
    "print('accuracy is',acc*100)"
   ]
  },
  {
   "cell_type": "code",
   "execution_count": 267,
   "metadata": {
    "scrolled": true
   },
   "outputs": [
    {
     "name": "stdout",
     "output_type": "stream",
     "text": [
      "             precision    recall  f1-score   support\n",
      "\n",
      "   negative       0.33      0.80      0.46      3811\n",
      "   positive       0.96      0.76      0.85     26189\n",
      "\n",
      "avg / total       0.88      0.76      0.80     30000\n",
      "\n",
      "\n",
      "\n",
      "Recall for positive 0.758906411089\n",
      "Recall for negative 0.800052479664\n",
      "\n",
      "\n",
      "Precision for postive 0.963076028493\n",
      "Precision for negative 0.325643490334\n"
     ]
    }
   ],
   "source": [
    "from sklearn.metrics import classification_report\n",
    "print(classification_report(y_test,pred))\n",
    "print('\\n')\n",
    "print('Recall for positive',recall_score(y_test,pred,pos_label = 'positive'))\n",
    "print('Recall for negative',recall_score(y_test,pred,pos_label = 'negative'))\n",
    "print('\\n')\n",
    "print('Precision for postive',precision_score(y_test,pred,pos_label = 'positive'))\n",
    "print('Precision for negative',precision_score(y_test,pred,pos_label = 'negative'))\n"
   ]
  },
  {
   "cell_type": "code",
   "execution_count": 268,
   "metadata": {
    "scrolled": false
   },
   "outputs": [
    {
     "data": {
      "image/png": "[encoded data removed]",
      "text/plain": [
       "<matplotlib.figure.Figure at 0x1ee3b182208>"
      ]
     },
     "metadata": {},
     "output_type": "display_data"
    }
   ],
   "source": [
    "change = lambda x : 1 if x == 'positive' else 0\n",
    "y_true = np.array([change(x) for x in y_test])\n",
    "y_pred = wv_model.predict_proba(tfidf_w2v_test)[:,1]\n",
    "fpr,tpr,thresholds = roc_curve(y_true, y_pred)\n",
    "plt.plot(fpr,tpr,'r--')\n",
    "plt.ylabel('True Positive Rate')\n",
    "plt.xlabel('False Positive Rate')\n",
    "plt.legend()\n",
    "plt.show()"
   ]
  },
  {
   "cell_type": "code",
   "execution_count": 269,
   "metadata": {
    "scrolled": false
   },
   "outputs": [
    {
     "name": "stdout",
     "output_type": "stream",
     "text": [
      "ROC Score 0.858007651002\n",
      "\n",
      "\n",
      "[[ 3049   762]\n",
      " [ 6314 19875]]\n"
     ]
    },
    {
     "data": {
      "image/png": "[encoded data removed]",
      "text/plain": [
       "<matplotlib.figure.Figure at 0x1ee10163320>"
      ]
     },
     "metadata": {},
     "output_type": "display_data"
    }
   ],
   "source": [
    "print('ROC Score',roc_auc_score(y_true,y_pred))\n",
    "print('\\n')\n",
    "confusion = confusion_matrix(y_test , pred)\n",
    "print(confusion)\n",
    "df_cm = pd.DataFrame(confusion , index = ['Negative','Positive'])\n",
    "sns.heatmap(df_cm ,annot = True)\n",
    "plt.xticks([0.5,1.5],['Negative','Positive'],rotation = 45)\n",
    "plt.xlabel(\"Predicted\")\n",
    "plt.ylabel(\"Actual\")\n",
    "plt.show()"
   ]
  },
  {
   "cell_type": "markdown",
   "metadata": {},
   "source": [
    "<h3>Logistic Regression on Tfidf-w2vec with L1</h3>\n",
    "* Optimal C = 0.1\n",
    "* Accuracy = 79.41\n",
    "* Precision = 0.96(positive), 0.32(negative)\n",
    "* Recall = 0.75 ,0.80\n",
    "* AUC = 0.85\n",
    "* TN = 3049\n",
    "* TP = 19875\n"
   ]
  },
  {
   "cell_type": "code",
   "execution_count": 270,
   "metadata": {
    "collapsed": true,
    "scrolled": true
   },
   "outputs": [],
   "source": [
    "lr_clf = LogisticRegression(penalty = 'l1', C = 0.1,class_weight = 'balanced')\n",
    "lr_clf.fit(tfidf_w2v_train,y_train)\n",
    "pred = lr_clf.predict(tfidf_w2v_test)\n",
    "pred_train = lr_clf.predict(tfidf_w2v_train)\n",
    "test_error = 1-accuracy_score(y_test,pred)\n",
    "train_error = 1-accuracy_score(y_train,pred_train)"
   ]
  },
  {
   "cell_type": "code",
   "execution_count": 271,
   "metadata": {},
   "outputs": [
    {
     "name": "stdout",
     "output_type": "stream",
     "text": [
      "Error on test 23.5866666667\n",
      "Error on train 23.6903384334\n",
      "Sparsity 48\n"
     ]
    }
   ],
   "source": [
    "print('Error on test',test_error*100)\n",
    "print('Error on train',train_error*100)\n",
    "w = lr_clf.coef_\n",
    "print('Sparsity',np.count_nonzero(w)-len(w))"
   ]
  },
  {
   "cell_type": "code",
   "execution_count": 272,
   "metadata": {
    "collapsed": true,
    "scrolled": true
   },
   "outputs": [],
   "source": [
    "lr_clf = LogisticRegression(penalty = 'l1', C = 1,class_weight = 'balanced')\n",
    "lr_clf.fit(tfidf_w2v_train,y_train)\n",
    "pred = lr_clf.predict(tfidf_w2v_test)\n",
    "pred_train = lr_clf.predict(tfidf_w2v_train)\n",
    "test_error = 1-accuracy_score(y_test,pred)\n",
    "train_error = 1-accuracy_score(y_train,pred_train)"
   ]
  },
  {
   "cell_type": "code",
   "execution_count": 273,
   "metadata": {},
   "outputs": [
    {
     "name": "stdout",
     "output_type": "stream",
     "text": [
      "Error on test 23.5566666667\n",
      "Error on train 23.6774811069\n",
      "Sparsity 49\n"
     ]
    }
   ],
   "source": [
    "print('Error on test',test_error*100)\n",
    "print('Error on train',train_error*100)\n",
    "w = lr_clf.coef_\n",
    "print('Sparsity',np.count_nonzero(w)-len(w))"
   ]
  },
  {
   "cell_type": "code",
   "execution_count": 274,
   "metadata": {
    "collapsed": true,
    "scrolled": true
   },
   "outputs": [],
   "source": [
    "lr_clf = LogisticRegression(penalty = 'l1', C = 10,class_weight = 'balanced')\n",
    "lr_clf.fit(tfidf_w2v_train,y_train)\n",
    "pred = lr_clf.predict(tfidf_w2v_test)\n",
    "pred_train = lr_clf.predict(tfidf_w2v_train)\n",
    "test_error = 1-accuracy_score(y_test,pred)\n",
    "train_error = 1-accuracy_score(y_train,pred_train)"
   ]
  },
  {
   "cell_type": "code",
   "execution_count": 275,
   "metadata": {},
   "outputs": [
    {
     "name": "stdout",
     "output_type": "stream",
     "text": [
      "Error on test 23.5433333333\n",
      "Error on train 23.6774811069\n",
      "Sparsity 49\n"
     ]
    }
   ],
   "source": [
    "print('Error on test',test_error*100)\n",
    "print('Error on train',train_error*100)\n",
    "w = lr_clf.coef_\n",
    "print('Sparsity',np.count_nonzero(w)-len(w))"
   ]
  },
  {
   "cell_type": "code",
   "execution_count": 276,
   "metadata": {
    "collapsed": true,
    "scrolled": true
   },
   "outputs": [],
   "source": [
    "lr_clf = LogisticRegression(penalty = 'l1', C = 100,class_weight = 'balanced')\n",
    "lr_clf.fit(tfidf_w2v_train,y_train)\n",
    "pred = lr_clf.predict(tfidf_w2v_test)\n",
    "pred_train = lr_clf.predict(tfidf_w2v_train)\n",
    "test_error = 1-accuracy_score(y_test,pred)\n",
    "train_error = 1-accuracy_score(y_train,pred_train)"
   ]
  },
  {
   "cell_type": "code",
   "execution_count": 277,
   "metadata": {
    "scrolled": true
   },
   "outputs": [
    {
     "name": "stdout",
     "output_type": "stream",
     "text": [
      "Error on test 23.5433333333\n",
      "Error on train 23.6789096987\n",
      "Sparsity 49\n"
     ]
    }
   ],
   "source": [
    "print('Error on test',test_error*100)\n",
    "print('Error on train',train_error*100)\n",
    "w = lr_clf.coef_\n",
    "print('Sparsity',np.count_nonzero(w)-len(w))"
   ]
  },
  {
   "cell_type": "markdown",
   "metadata": {},
   "source": [
    "# Result with L1\n",
    "1. C = 0.1 , ERROR ON TEST - 23.58 , ERROR IN TRAIN - 23.69 , SPARSITY - 48\n",
    "2. C = 1 , ERROR ON TEST - 23.55 , ERROR IN TRAIN - 23.67 , SPARSITY - 49\n",
    "3. C = 10 , ERROR ON TEST - 23.54 , ERROR IN TRAIN - 23.67 , SPARSITY - 49\n",
    "4. C = 100 , ERROR ON TEST - 23.54 , ERROR IN TRAIN - 23.67 , SPARSITY - 49"
   ]
  },
  {
   "cell_type": "code",
   "execution_count": 278,
   "metadata": {
    "scrolled": true
   },
   "outputs": [
    {
     "name": "stdout",
     "output_type": "stream",
     "text": [
      "LogisticRegression(C=10, class_weight='balanced', dual=False,\n",
      "          fit_intercept=True, intercept_scaling=1, max_iter=100,\n",
      "          multi_class='ovr', n_jobs=1, penalty='l2', random_state=None,\n",
      "          solver='liblinear', tol=0.0001, verbose=0, warm_start=False)\n",
      "Accuracy  76.4533333333\n"
     ]
    }
   ],
   "source": [
    "model  = GridSearchCV(LogisticRegression(class_weight = 'balanced'),param , scoring = 'accuracy',cv = 10,n_jobs = -1)\n",
    "model.fit(tfidf_w2v_train,y_train)\n",
    "print(model.best_estimator_)\n",
    "pred = model.predict(tfidf_w2v_test)\n",
    "print('Accuracy ',accuracy_score(y_test,pred)*100)"
   ]
  },
  {
   "cell_type": "code",
   "execution_count": 279,
   "metadata": {
    "scrolled": true
   },
   "outputs": [
    {
     "name": "stdout",
     "output_type": "stream",
     "text": [
      "             precision    recall  f1-score   support\n",
      "\n",
      "   negative       0.33      0.80      0.46      3811\n",
      "   positive       0.96      0.76      0.85     26189\n",
      "\n",
      "avg / total       0.88      0.76      0.80     30000\n",
      "\n",
      "\n",
      "\n",
      "Recall for positive 0.759364618733\n",
      "Recall for negative 0.800052479664\n",
      "\n",
      "\n",
      "Precision for postive 0.963097486561\n",
      "Precision for negative 0.326061383809\n"
     ]
    }
   ],
   "source": [
    "from sklearn.metrics import classification_report\n",
    "print(classification_report(y_test,pred))\n",
    "print('\\n')\n",
    "print('Recall for positive',recall_score(y_test,pred,pos_label = 'positive'))\n",
    "print('Recall for negative',recall_score(y_test,pred,pos_label = 'negative'))\n",
    "print('\\n')\n",
    "print('Precision for postive',precision_score(y_test,pred,pos_label = 'positive'))\n",
    "print('Precision for negative',precision_score(y_test,pred,pos_label = 'negative'))\n"
   ]
  },
  {
   "cell_type": "code",
   "execution_count": 280,
   "metadata": {
    "scrolled": true
   },
   "outputs": [
    {
     "data": {
      "image/png": "[encoded data removed]",
      "text/plain": [
       "<matplotlib.figure.Figure at 0x1ee28d4c5f8>"
      ]
     },
     "metadata": {},
     "output_type": "display_data"
    }
   ],
   "source": [
    "change = lambda x : 1 if x == 'positive' else 0\n",
    "y_true = np.array([change(x) for x in y_test])\n",
    "y_pred = model.predict_proba(tfidf_w2v_test)[:,1]\n",
    "fpr,tpr,thresholds = roc_curve(y_true, y_pred)\n",
    "plt.plot(fpr,tpr,'r--')\n",
    "plt.ylabel('True Positive Rate')\n",
    "plt.xlabel('False Positive Rate')\n",
    "plt.legend()\n",
    "plt.show()"
   ]
  },
  {
   "cell_type": "code",
   "execution_count": 281,
   "metadata": {
    "scrolled": false
   },
   "outputs": [
    {
     "name": "stdout",
     "output_type": "stream",
     "text": [
      "ROC Score 0.858033961971\n",
      "\n",
      "\n",
      "[[ 3049   762]\n",
      " [ 6302 19887]]\n"
     ]
    },
    {
     "data": {
      "image/png": "[encoded data removed]",
      "text/plain": [
       "<matplotlib.figure.Figure at 0x1ee10162550>"
      ]
     },
     "metadata": {},
     "output_type": "display_data"
    }
   ],
   "source": [
    "print('ROC Score',roc_auc_score(y_true,y_pred))\n",
    "print('\\n')\n",
    "confusion = confusion_matrix(y_test , pred)\n",
    "print(confusion)\n",
    "df_cm = pd.DataFrame(confusion , index = ['Negative','Positive'])\n",
    "sns.heatmap(df_cm ,annot = True)\n",
    "plt.xticks([0.5,1.5],['Negative','Positive'],rotation = 45)\n",
    "plt.xlabel(\"Predicted\")\n",
    "plt.ylabel(\"Actual\")\n",
    "plt.show()"
   ]
  },
  {
   "cell_type": "markdown",
   "metadata": {},
   "source": [
    "<h3>Logistic Regression on Tfidf-w2vec with L2</h3>\n",
    "* Optimal C = 10\n",
    "* Accuracy = 76.45\n",
    "* Precision = 0.96(positive), 0.32(negative)\n",
    "* Recall = 0.75 ,0.80\n",
    "* AUC = 0.85\n",
    "* TN = 3049\n",
    "* TP = 19887\n"
   ]
  },
  {
   "cell_type": "code",
   "execution_count": 282,
   "metadata": {},
   "outputs": [
    {
     "name": "stdout",
     "output_type": "stream",
     "text": [
      "[[ 0.02227554  0.24687819  0.37823166  0.57594705 -0.37873557  0.02131065\n",
      "   0.41199441 -0.35374098 -0.07554398 -0.10735884  0.35796675 -0.1786271\n",
      "   0.35220381  0.11873004 -0.60147544 -0.33643168  0.21301264 -0.02092132\n",
      "   0.8381591   0.04104244  0.31729943 -0.09284939  0.51619522  0.58721911\n",
      "   0.16106774 -0.03312721 -0.29633354  0.38546997 -0.6728411  -0.05190695\n",
      "  -0.06456107 -0.18990998 -0.58129387 -0.46385552 -0.15921694 -0.04961211\n",
      "   0.07228252 -0.04166887 -0.17267261  0.23475067 -0.0980782   0.5319953\n",
      "  -0.18634539  0.29089368  0.14593808 -0.28221459 -0.09264809  0.01435754\n",
      "   0.5253343  -0.48866339]]\n"
     ]
    }
   ],
   "source": [
    "clf = LogisticRegression(C = 10 ,class_weight = 'balanced')\n",
    "clf.fit(tfidf_w2v_train,y_train)\n",
    "w_tw = clf.coef_\n",
    "print(w_tw)\n"
   ]
  },
  {
   "cell_type": "markdown",
   "metadata": {},
   "source": [
    "# Multicollinearity check"
   ]
  },
  {
   "cell_type": "code",
   "execution_count": 283,
   "metadata": {
    "collapsed": true
   },
   "outputs": [],
   "source": [
    "tfidf_w2v_train.data = tfidf_w2v_train.data + rand"
   ]
  },
  {
   "cell_type": "code",
   "execution_count": 284,
   "metadata": {
    "scrolled": true
   },
   "outputs": [
    {
     "name": "stdout",
     "output_type": "stream",
     "text": [
      "LogisticRegression(C=100, class_weight='balanced', dual=False,\n",
      "          fit_intercept=True, intercept_scaling=1, max_iter=100,\n",
      "          multi_class='ovr', n_jobs=1, penalty='l2', random_state=None,\n",
      "          solver='liblinear', tol=0.0001, verbose=0, warm_start=False)\n"
     ]
    }
   ],
   "source": [
    "mod_no  = GridSearchCV(LogisticRegression(class_weight = 'balanced'),tunned_param , scoring = 'accuracy',cv = 10,n_jobs = -1)\n",
    "mod_no.fit(tfidf_w2v_train,y_train)\n",
    "print(mod_no.best_estimator_)"
   ]
  },
  {
   "cell_type": "code",
   "execution_count": 285,
   "metadata": {
    "scrolled": true
   },
   "outputs": [
    {
     "name": "stdout",
     "output_type": "stream",
     "text": [
      "[[ 0.02227798  0.2469405   0.37827323  0.57593362 -0.37875142  0.02134413\n",
      "   0.41202389 -0.35377543 -0.07555119 -0.10733927  0.35800868 -0.17865769\n",
      "   0.35222731  0.11876977 -0.6015311  -0.33645107  0.21307016 -0.02094291\n",
      "   0.83826889  0.04105077  0.31733588 -0.09290468  0.51623758  0.58727585\n",
      "   0.16108844 -0.03314105 -0.29636022  0.3854946  -0.67294777 -0.05192312\n",
      "  -0.06457251 -0.18989387 -0.58131874 -0.46386346 -0.15919052 -0.04958319\n",
      "   0.07229074 -0.04170776 -0.17267676  0.2348406  -0.09809837  0.53205607\n",
      "  -0.1863495   0.29092362  0.14590847 -0.28223304 -0.09264245  0.0144172\n",
      "   0.52538131 -0.48870019]]\n"
     ]
    }
   ],
   "source": [
    "clf_no = LogisticRegression(class_weight = 'balanced',C = 100)\n",
    "clf_no.fit(tfidf_w2v_train,y_train)\n",
    "w_wtf = clf_no.coef_\n",
    "print(w_wtf)"
   ]
  },
  {
   "cell_type": "code",
   "execution_count": 286,
   "metadata": {},
   "outputs": [
    {
     "name": "stdout",
     "output_type": "stream",
     "text": [
      "[  1.09822497e-04   2.52366338e-04   1.09911554e-04   2.33259080e-05\n",
      "   4.18341479e-05   1.57098133e-03   7.15593607e-05   9.73690660e-05\n",
      "   9.53398298e-05   1.82255387e-04   1.17134438e-04   1.71240654e-04\n",
      "   6.67344312e-05   3.34591349e-04   9.25333561e-05   5.76574121e-05\n",
      "   2.70000531e-04   1.03194882e-03   1.30985958e-04   2.02880216e-04\n",
      "   1.14865993e-04   5.95412093e-04   8.20600471e-05   9.66239089e-05\n",
      "   1.28513274e-04   4.17729780e-04   9.00062465e-05   6.38805811e-05\n",
      "   1.58544089e-04   3.11565842e-04   1.77207071e-04   8.48254522e-05\n",
      "   4.27799415e-05   1.71053273e-05   1.65953184e-04   5.82769907e-04\n",
      "   1.13723288e-04   9.33269889e-04   2.40314159e-05   3.83092080e-04\n",
      "   2.05589943e-04   1.14221496e-04   2.20758018e-05   1.02915392e-04\n",
      "   2.02901015e-04   6.53562489e-05   6.08768805e-05   4.15526724e-03\n",
      "   8.94889490e-05   7.53096503e-05]\n"
     ]
    }
   ],
   "source": [
    "wtf_per = ((w_wtf - w_tw)/abs(w_tw))\n",
    "wtf_per = abs(wtf_per)[0]\n",
    "print(wtf_per)\n",
    "ch_wtf = []\n",
    "for i in wtf_per:\n",
    "    if i > 0.3:\n",
    "        ch_wtf.append(i)"
   ]
  },
  {
   "cell_type": "code",
   "execution_count": 288,
   "metadata": {},
   "outputs": [
    {
     "name": "stdout",
     "output_type": "stream",
     "text": [
      "0\n",
      "50\n",
      "Multicollinearity exists in features for change greater than 30% is 0.0 %\n",
      "None\n"
     ]
    }
   ],
   "source": [
    "print(len(ch_wtf))\n",
    "print(len(wtf_per))\n",
    "print(print('Multicollinearity exists in features for change greater than 30% is',(len(ch_wtf)/len(wtf_per))*100,'%'))"
   ]
  },
  {
   "cell_type": "code",
   "execution_count": 289,
   "metadata": {
    "collapsed": true
   },
   "outputs": [],
   "source": [
    "ch_wtf = []\n",
    "for i in wtf_per:\n",
    "    if i > 0.4:\n",
    "        ch_wtf.append(i)"
   ]
  },
  {
   "cell_type": "code",
   "execution_count": 291,
   "metadata": {
    "scrolled": true
   },
   "outputs": [
    {
     "name": "stdout",
     "output_type": "stream",
     "text": [
      "0\n",
      "50\n",
      "Multicollinearity exists in features for change greater than 40% is 0.0 %\n",
      "None\n"
     ]
    }
   ],
   "source": [
    "print(len(ch_wtf))\n",
    "print(len(wtf_per))\n",
    "print(print('Multicollinearity exists in features for change greater than 40% is',(len(ch_wtf)/len(wtf_per))*100,'%'))"
   ]
  },
  {
   "cell_type": "markdown",
   "metadata": {},
   "source": [
    "<h4>Top 10 features</h4>"
   ]
  },
  {
   "cell_type": "code",
   "execution_count": 292,
   "metadata": {},
   "outputs": [
    {
     "name": "stdout",
     "output_type": "stream",
     "text": [
      "[-0.48866339  0.5253343   0.01435754 -0.09264809 -0.28221459  0.14593808\n",
      "  0.29089368 -0.18634539  0.5319953  -0.0980782 ]\n"
     ]
    }
   ],
   "source": [
    "sort = sorted(w_tw)[0]\n",
    "print(sort[::-1][:10])"
   ]
  }
 ],
 "metadata": {
  "kernelspec": {
   "display_name": "Python 3",
   "language": "python",
   "name": "python3"
  },
  "language_info": {
   "codemirror_mode": {
    "name": "ipython",
    "version": 3
   },
   "file_extension": ".py",
   "mimetype": "text/x-python",
   "name": "python",
   "nbconvert_exporter": "python",
   "pygments_lexer": "ipython3",
   "version": "3.6.3"
  }
 },
 "nbformat": 4,
 "nbformat_minor": 2
}
